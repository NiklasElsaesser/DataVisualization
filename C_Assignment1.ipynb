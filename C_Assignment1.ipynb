{
  "cells": [
    {
      "cell_type": "markdown",
      "metadata": {
        "colab_type": "text",
        "id": "view-in-github"
      },
      "source": [
        "<a href=\"https://colab.research.google.com/github/NiklasElsaesser/DataVisualization/blob/main/C_Assignment1.ipynb\" target=\"_parent\"><img src=\"https://colab.research.google.com/assets/colab-badge.svg\" alt=\"Open In Colab\"/></a>"
      ]
    },
    {
      "cell_type": "markdown",
      "metadata": {
        "id": "keXp_Z3xI7Pl"
      },
      "source": [
        "# Assignment1 \"Creating Visualization\""
      ]
    },
    {
      "cell_type": "markdown",
      "metadata": {
        "id": "QZz9jsFjI7Pt"
      },
      "source": [
        "## Prerequisits\n",
        "Installing the Python Library Pandas and Numpy"
      ]
    },
    {
      "cell_type": "code",
      "execution_count": null,
      "metadata": {
        "colab": {
          "base_uri": "https://localhost:8080/"
        },
        "id": "m6thsCwlI7Pt",
        "outputId": "831c342e-0579-4d4b-c37d-abdb19617b11"
      },
      "outputs": [],
      "source": [
        "%pip install pandas\n",
        "%pip install numpy\n",
        "%pip install wandb"
      ]
    },
    {
      "cell_type": "code",
      "execution_count": null,
      "metadata": {
        "colab": {
          "base_uri": "https://localhost:8080/"
        },
        "id": "VzfLTgw1I7Pv",
        "outputId": "70e92e4f-2600-4121-bd12-37d2e5271017"
      },
      "outputs": [],
      "source": [
        "%pip install Matplotlib\n",
        "%pip install Seaborn\n",
        "%pip install Plotly\n",
        "%pip install kaleido\n",
        "%pip install imageio"
      ]
    },
    {
      "cell_type": "code",
      "execution_count": 29,
      "metadata": {
        "colab": {
          "base_uri": "https://localhost:8080/"
        },
        "id": "ePHQ-hYlSIo-",
        "outputId": "882b38eb-8065-47a6-8558-e17cb023a312"
      },
      "outputs": [
        {
          "name": "stdout",
          "output_type": "stream",
          "text": [
            "Drive already mounted at /content/drive; to attempt to forcibly remount, call drive.mount(\"/content/drive\", force_remount=True).\n"
          ]
        }
      ],
      "source": [
        "from google.colab import drive\n",
        "drive.mount('/content/drive')"
      ]
    },
    {
      "cell_type": "code",
      "execution_count": 30,
      "metadata": {
        "id": "hr9BG2nKI7Pv"
      },
      "outputs": [],
      "source": [
        "import wandb"
      ]
    },
    {
      "cell_type": "code",
      "execution_count": 31,
      "metadata": {
        "colab": {
          "base_uri": "https://localhost:8080/",
          "height": 120
        },
        "id": "JsxJp8DPI7Pv",
        "outputId": "c01eea0b-5cbb-44a5-ebbc-d2cfeea0d5d0"
      },
      "outputs": [
        {
          "data": {
            "text/html": [
              "Tracking run with wandb version 0.16.5"
            ],
            "text/plain": [
              "<IPython.core.display.HTML object>"
            ]
          },
          "metadata": {},
          "output_type": "display_data"
        },
        {
          "data": {
            "text/html": [
              "Run data is saved locally in <code>/content/wandb/run-20240326_130216-65lqwrx4</code>"
            ],
            "text/plain": [
              "<IPython.core.display.HTML object>"
            ]
          },
          "metadata": {},
          "output_type": "display_data"
        },
        {
          "data": {
            "text/html": [
              "Syncing run <strong><a href='https://wandb.ai/elsaesserniklas/Creating%20Visualization/runs/65lqwrx4/workspace' target=\"_blank\">prime-gorge-17</a></strong> to <a href='https://wandb.ai/elsaesserniklas/Creating%20Visualization' target=\"_blank\">Weights & Biases</a> (<a href='https://wandb.me/run' target=\"_blank\">docs</a>)<br/>"
            ],
            "text/plain": [
              "<IPython.core.display.HTML object>"
            ]
          },
          "metadata": {},
          "output_type": "display_data"
        },
        {
          "data": {
            "text/html": [
              " View project at <a href='https://wandb.ai/elsaesserniklas/Creating%20Visualization' target=\"_blank\">https://wandb.ai/elsaesserniklas/Creating%20Visualization</a>"
            ],
            "text/plain": [
              "<IPython.core.display.HTML object>"
            ]
          },
          "metadata": {},
          "output_type": "display_data"
        },
        {
          "data": {
            "text/html": [
              " View run at <a href='https://wandb.ai/elsaesserniklas/Creating%20Visualization/runs/65lqwrx4/workspace' target=\"_blank\">https://wandb.ai/elsaesserniklas/Creating%20Visualization/runs/65lqwrx4/workspace</a>"
            ],
            "text/plain": [
              "<IPython.core.display.HTML object>"
            ]
          },
          "metadata": {},
          "output_type": "display_data"
        },
        {
          "data": {
            "text/html": [
              "<button onClick=\"this.nextSibling.style.display='block';this.style.display='none';\">Display W&B run</button><iframe src='https://wandb.ai/elsaesserniklas/Creating%20Visualization/runs/65lqwrx4?jupyter=true' style='border:none;width:100%;height:420px;display:none;'></iframe>"
            ],
            "text/plain": [
              "<wandb.sdk.wandb_run.Run at 0x7d3a52bd73a0>"
            ]
          },
          "execution_count": 31,
          "metadata": {},
          "output_type": "execute_result"
        }
      ],
      "source": [
        "#wandb.init(project=\"Creating Visualization\")"
      ]
    },
    {
      "cell_type": "markdown",
      "metadata": {
        "id": "3BRhaDP6QmLZ"
      },
      "source": [
        "# Used Dataset"
      ]
    },
    {
      "cell_type": "code",
      "execution_count": 32,
      "metadata": {
        "colab": {
          "base_uri": "https://localhost:8080/"
        },
        "id": "qkz_ntIgFNf1",
        "outputId": "80d5cc80-5503-4627-f6ad-fa22c748efbe"
      },
      "outputs": [
        {
          "name": "stdout",
          "output_type": "stream",
          "text": [
            "                    Image Path Predicted Gender Predicted Emotion  \\\n",
            "0              jan_neutral.jpg              Men           Neutral   \n",
            "1                jan_happy.jpg              Men           Neutral   \n",
            "2             anna_neutral.jpg              Men           Neutral   \n",
            "3            bernice_happy.jpg            Women             Happy   \n",
            "4          bernice_neutral.jpg            Women             Happy   \n",
            "5             anna_happy_2.jpg            Women             Happy   \n",
            "6         niklas_neutral_1.jpg              Men           Neutral   \n",
            "7           niklas_happy_1.jpg              Men           Neutral   \n",
            "8           anna_neutral_2.jpg            Women             Happy   \n",
            "9   niklas_neutral_woBeard.jpg              Men           Neutral   \n",
            "10    niklas_happy_woBeard.jpg              Men           Neutral   \n",
            "\n",
            "   Correct Prediction     Name   actual_emotion  \n",
            "0             Correct      jan          neutral  \n",
            "1           Incorrect      jan            happy  \n",
            "2           Incorrect     anna          neutral  \n",
            "3             Correct  bernice            happy  \n",
            "4           Incorrect  bernice          neutral  \n",
            "5             Correct     anna          happy_2  \n",
            "6             Correct   niklas        neutral_1  \n",
            "7           Incorrect   niklas          happy_1  \n",
            "8           Incorrect     anna        neutral_2  \n",
            "9             Correct   niklas  neutral_woBeard  \n",
            "10          Incorrect   niklas    happy_woBeard  \n"
          ]
        }
      ],
      "source": [
        "import pandas as pd\n",
        "\n",
        "# Read the CSV file into a DataFrame\n",
        "file_path = \"/content/drive/MyDrive/DataVisual/ds_visualisation.csv\"\n",
        "df = pd.read_csv(file_path)\n",
        "\n",
        "# Perform the operation to extract 'Name' from 'Image Path'\n",
        "df['Name'] = df['Image Path'].str.split('_').str[0]\n",
        "\n",
        "# Extract 'actual_emotion' from 'Image Path'\n",
        "df['actual_emotion'] = df['Image Path'].str.extract(r'_(\\w+)\\.')[0].fillna('')\n",
        "\n",
        "# Save the modified DataFrame as a new CSV file\n",
        "#df.to_csv(\"/content/drive/MyDrive/DataVisual/extended_ds_vis.csv\", index=False)\n",
        "\n",
        "\n",
        "# Print the DataFrame\n",
        "print(df)"
      ]
    },
    {
      "cell_type": "markdown",
      "metadata": {
        "id": "p8D2f4bbjFA9"
      },
      "source": [
        "## Adding df to WandB"
      ]
    },
    {
      "cell_type": "code",
      "execution_count": 33,
      "metadata": {
        "id": "mSp3_cF2jIZp"
      },
      "outputs": [],
      "source": [
        "# Create a wandb Table\n",
        "table = wandb.Table(dataframe=df, allow_mixed_types=True)  # Convert DataFrame to wandb Table\n",
        "\n",
        "# Log the Table\n",
        "wandb.log({\"4facebias_predictions\": table})"
      ]
    },
    {
      "cell_type": "markdown",
      "metadata": {
        "id": "3EOPF5i1RFdQ"
      },
      "source": [
        "# Visualizing"
      ]
    },
    {
      "cell_type": "code",
      "execution_count": 34,
      "metadata": {
        "id": "_klv-_KaInvh"
      },
      "outputs": [],
      "source": [
        "import matplotlib.pyplot as plt\n",
        "import pandas as pd\n",
        "import wandb\n",
        "import numpy as np\n",
        "import seaborn as sns\n",
        "import plotly.graph_objects as go\n",
        "from io import BytesIO\n",
        "from sklearn.metrics import confusion_matrix\n",
        "import pandas as pd\n",
        "from PIL import Image\n",
        "import io\n"
      ]
    },
    {
      "cell_type": "markdown",
      "metadata": {
        "id": "SmAA6pTroL8n"
      },
      "source": [
        "PIE Chart"
      ]
    },
    {
      "cell_type": "code",
      "execution_count": 35,
      "metadata": {
        "id": "JywZnrUnoLtZ"
      },
      "outputs": [],
      "source": [
        "# Count the number of correct and incorrect predictions by gender\n",
        "gender_counts = df.groupby(['Predicted Gender', 'Correct Prediction']).size().reset_index(name='Count')\n",
        "\n",
        "# Define colors\n",
        "colors = ['#1f77b4', '#aec7e8', '#9467bd', '#c5b0d5']  # Shades of blue for men, purple for women\n",
        "\n",
        "# Create hover text\n",
        "hover_text = gender_counts['Predicted Gender'] + ' (' + gender_counts['Correct Prediction'] + ')'\n",
        "\n",
        "# Create a pie chart\n",
        "fig = go.Figure(data=[go.Pie(labels=hover_text,\n",
        "                             values=gender_counts['Count'],\n",
        "                             hole=0.3,\n",
        "                             marker_colors=colors,\n",
        "                             textinfo='none',  # Disable text info in the chart\n",
        "                             hoverinfo='label+percent+text',  # Show hover info including gender\n",
        "                             title='Incorrect vs. Correct Predictions by Gender',\n",
        "                             )])\n",
        "\n",
        "# Update layout\n",
        "fig.update_layout(title_text='Incorrect vs. Correct Predictions by Gender', title_x=0.5)\n",
        "\n",
        "# Log the interactive plot to Wandb\n",
        "#wandb.init(project=\"your-project-name\", entity=\"your-entity-name\")  # Initialize Wandb\n",
        "wandb.log({\"Incorrect_vs_Correct_Predictions_Pie\": fig})\n",
        "\n",
        "# Finish logging\n",
        "#wandb.finish()\n"
      ]
    },
    {
      "cell_type": "markdown",
      "metadata": {
        "id": "j2eLBSzl5pQ4"
      },
      "source": [
        "Gender vs. Emotion"
      ]
    },
    {
      "cell_type": "code",
      "execution_count": 37,
      "metadata": {
        "colab": {
          "base_uri": "https://localhost:8080/",
          "height": 527
        },
        "id": "HwWrtJOXI7Pw",
        "outputId": "fbf8b475-00d8-4237-ba95-c44a48a1f59f"
      },
      "outputs": [
        {
          "data": {
            "text/plain": [
              "<Figure size 1000x600 with 0 Axes>"
            ]
          },
          "metadata": {},
          "output_type": "display_data"
        },
        {
          "data": {
            "image/png": "[encoded data removed]",
            "text/plain": [
              "<Figure size 640x480 with 1 Axes>"
            ]
          },
          "metadata": {},
          "output_type": "display_data"
        }
      ],
      "source": [
        "# Counting the occurrences of each combination of Predicted Gender and Predicted Emotion\n",
        "gender_emotion_counts = df.groupby(['Predicted Gender', 'Predicted Emotion']).size().unstack()\n",
        "\n",
        "# Creating a stacked bar chart\n",
        "plt.figure(figsize=(10, 6))\n",
        "gender_emotion_counts.plot(kind='bar', stacked=True, color=['blue', 'pink', 'green', 'gray'])\n",
        "plt.title('Predicted Gender and Emotion Distribution')\n",
        "plt.xlabel('Gender')\n",
        "plt.ylabel('Count')\n",
        "plt.legend(title='Emotion', loc='upper right')\n",
        "\n",
        "# Save plot to buffer\n",
        "buf = BytesIO()\n",
        "plt.savefig(buf, format='png', bbox_inches='tight')\n",
        "buf.seek(0)\n",
        "\n",
        "# Convert buffer to numpy array\n",
        "buf_array = np.frombuffer(buf.getvalue(), dtype=np.uint8)\n",
        "\n",
        "# Reshape the array to match the expected image shape\n",
        "img = plt.imread(BytesIO(buf_array))\n",
        "buf_array = np.array(img)\n",
        "\n",
        "# Create a plotly figure\n",
        "fig = go.Figure(data=[go.Bar(x=gender_emotion_counts.index, y=gender_emotion_counts[emotion], name=emotion)\n",
        "                      for emotion in gender_emotion_counts.columns])\n",
        "\n",
        "# Adjust layout\n",
        "fig.update_layout(\n",
        "    title='Predicted Gender and Emotion Distribution',\n",
        "    xaxis_title='Gender',\n",
        "    yaxis_title='Count',\n",
        "    width=1000,\n",
        "    height=600\n",
        ")\n",
        "\n",
        "# Log the figure to Wandb\n",
        "wandb.log({\"Gender_Emotion_Distribution\": fig})\n",
        "\n",
        "# Log the image to Wandb\n",
        "wandb.log({\"Gender_Emotion_Plot\": wandb.Image(buf_array)})\n",
        "\n"
      ]
    },
    {
      "cell_type": "markdown",
      "metadata": {
        "id": "tV-NDoEq5s5c"
      },
      "source": [
        "Gender Accuracy"
      ]
    },
    {
      "cell_type": "code",
      "execution_count": 38,
      "metadata": {
        "colab": {
          "base_uri": "https://localhost:8080/",
          "height": 564
        },
        "id": "tegWMBCBTH9w",
        "outputId": "a0760b0e-09ba-4d8c-baf1-6667b6d40630"
      },
      "outputs": [
        {
          "data": {
            "image/png": "[encoded data removed]",
            "text/plain": [
              "<Figure size 600x600 with 1 Axes>"
            ]
          },
          "metadata": {},
          "output_type": "display_data"
        }
      ],
      "source": [
        "# Calculate accuracy for incorrect predictions for Men and Women\n",
        "men_incorrect_accuracy = df.loc[(df['Predicted Gender'] == 'Men') & (df['Correct Prediction'] == 'Incorrect')].shape[0] / df.loc[df['Predicted Gender'] == 'Men'].shape[0] * 100\n",
        "women_incorrect_accuracy = df.loc[(df['Predicted Gender'] == 'Women') & (df['Correct Prediction'] == 'Incorrect')].shape[0] / df.loc[df['Predicted Gender'] == 'Women'].shape[0] * 100\n",
        "\n",
        "# Bar chart for Incorrect Prediction Accuracy by Gender\n",
        "plt.figure(figsize=(6, 6))\n",
        "plt.bar(['Men', 'Women'], [men_incorrect_accuracy, women_incorrect_accuracy], color=['blue', 'pink'])\n",
        "plt.title('Incorrect Prediction Accuracy by Gender')\n",
        "plt.xlabel('Gender')\n",
        "plt.ylabel('Accuracy (%)')\n",
        "plt.ylim(0, 100)\n",
        "\n",
        "# Save plot to buffer\n",
        "buf = BytesIO()\n",
        "plt.savefig(buf, format='png')\n",
        "buf.seek(0)\n",
        "\n",
        "# Convert buffer to numpy array\n",
        "buf_array = np.array(plt.imread(buf))\n",
        "\n",
        "# Log the image to Wandb\n",
        "wandb.log({\"Prediction_Gender_Accuracy\": wandb.Image(buf_array)})\n"
      ]
    },
    {
      "cell_type": "code",
      "execution_count": 39,
      "metadata": {
        "colab": {
          "base_uri": "https://localhost:8080/",
          "height": 564
        },
        "id": "sXsBvVV8TO0z",
        "outputId": "ef111a39-36af-40a5-bf2a-add96c7d81cc"
      },
      "outputs": [
        {
          "data": {
            "image/png": "[encoded data removed]",
            "text/plain": [
              "<Figure size 800x600 with 1 Axes>"
            ]
          },
          "metadata": {},
          "output_type": "display_data"
        }
      ],
      "source": [
        "import matplotlib.pyplot as plt\n",
        "import seaborn as sns\n",
        "import pandas as pd\n",
        "import numpy as np\n",
        "import wandb\n",
        "from io import BytesIO\n",
        "\n",
        "# Assume df is your DataFrame\n",
        "\n",
        "# Group the DataFrame by 'Predicted Gender', 'Name', and 'Predicted Emotion', and count the occurrences\n",
        "grouped_df = df.groupby(['Predicted Gender', 'Name', 'Predicted Emotion']).size().reset_index(name='Count')\n",
        "\n",
        "# Plotting the grouped bar chart with a smaller size\n",
        "plt.figure(figsize=(8, 6))\n",
        "sns.barplot(x='Predicted Gender', y='Count', hue='Name', data=grouped_df, dodge=True, palette='husl')\n",
        "plt.title('Predicted Gender, Name, and Emotion Distribution')\n",
        "plt.xlabel('Predicted Gender')\n",
        "plt.ylabel('Count')\n",
        "plt.legend(title='Name', bbox_to_anchor=(1, 1), loc='upper left')\n",
        "\n",
        "# Save plot to buffer\n",
        "buf = BytesIO()\n",
        "plt.savefig(buf, format='png')\n",
        "buf.seek(0)\n",
        "\n",
        "# Convert buffer to numpy array\n",
        "buf_array = np.array(plt.imread(buf))\n",
        "\n",
        "# Log the image to Wandb\n",
        "wandb.log({\"Prediction-by_Gen-Name-Emotion\": wandb.Image(buf_array)})\n",
        "\n",
        "# Show the plot (if needed)\n",
        "plt.show()\n"
      ]
    },
    {
      "cell_type": "code",
      "execution_count": 40,
      "metadata": {
        "colab": {
          "base_uri": "https://localhost:8080/",
          "height": 542
        },
        "id": "jhrdlBHR8S3Y",
        "outputId": "dca97557-5ce9-477f-f21d-2ce4fb3d043e"
      },
      "outputs": [
        {
          "data": {
            "text/html": [
              "<html>\n",
              "<head><meta charset=\"utf-8\" /></head>\n",
              "<body>\n",
              "    <div>            <script src=\"https://cdnjs.cloudflare.com/ajax/libs/mathjax/2.7.5/MathJax.js?config=TeX-AMS-MML_SVG\"></script><script type=\"text/javascript\">if (window.MathJax && window.MathJax.Hub && window.MathJax.Hub.Config) {window.MathJax.Hub.Config({SVG: {font: \"STIX-Web\"}});}</script>                <script type=\"text/javascript\">window.PlotlyConfig = {MathJaxConfig: 'local'};</script>\n",
              "        <script charset=\"utf-8\" src=\"https://cdn.plot.ly/plotly-2.24.1.min.js\"></script>                <div id=\"056f81f5-6866-4a41-9b5a-de23d27af911\" class=\"plotly-graph-div\" style=\"height:525px; width:100%;\"></div>            <script type=\"text/javascript\">                                    window.PLOTLYENV=window.PLOTLYENV || {};                                    if (document.getElementById(\"056f81f5-6866-4a41-9b5a-de23d27af911\")) {                    Plotly.newPlot(                        \"056f81f5-6866-4a41-9b5a-de23d27af911\",                        [{\"alignmentgroup\":\"True\",\"hovertemplate\":\"Name=anna\\u003cbr\\u003ePredicted Gender=%{x}\\u003cbr\\u003eCount=%{y}\\u003cextra\\u003e\\u003c\\u002fextra\\u003e\",\"legendgroup\":\"anna\",\"marker\":{\"color\":\"#636efa\",\"pattern\":{\"shape\":\"\"}},\"name\":\"anna\",\"offsetgroup\":\"anna\",\"orientation\":\"v\",\"showlegend\":true,\"textposition\":\"auto\",\"x\":[\"Men\",\"Women\"],\"xaxis\":\"x\",\"y\":[1,2],\"yaxis\":\"y\",\"type\":\"bar\"},{\"alignmentgroup\":\"True\",\"hovertemplate\":\"Name=bernice\\u003cbr\\u003ePredicted Gender=%{x}\\u003cbr\\u003eCount=%{y}\\u003cextra\\u003e\\u003c\\u002fextra\\u003e\",\"legendgroup\":\"bernice\",\"marker\":{\"color\":\"#EF553B\",\"pattern\":{\"shape\":\"\"}},\"name\":\"bernice\",\"offsetgroup\":\"bernice\",\"orientation\":\"v\",\"showlegend\":true,\"textposition\":\"auto\",\"x\":[\"Women\"],\"xaxis\":\"x\",\"y\":[2],\"yaxis\":\"y\",\"type\":\"bar\"},{\"alignmentgroup\":\"True\",\"hovertemplate\":\"Name=jan\\u003cbr\\u003ePredicted Gender=%{x}\\u003cbr\\u003eCount=%{y}\\u003cextra\\u003e\\u003c\\u002fextra\\u003e\",\"legendgroup\":\"jan\",\"marker\":{\"color\":\"#00cc96\",\"pattern\":{\"shape\":\"\"}},\"name\":\"jan\",\"offsetgroup\":\"jan\",\"orientation\":\"v\",\"showlegend\":true,\"textposition\":\"auto\",\"x\":[\"Men\"],\"xaxis\":\"x\",\"y\":[2],\"yaxis\":\"y\",\"type\":\"bar\"},{\"alignmentgroup\":\"True\",\"hovertemplate\":\"Name=niklas\\u003cbr\\u003ePredicted Gender=%{x}\\u003cbr\\u003eCount=%{y}\\u003cextra\\u003e\\u003c\\u002fextra\\u003e\",\"legendgroup\":\"niklas\",\"marker\":{\"color\":\"#ab63fa\",\"pattern\":{\"shape\":\"\"}},\"name\":\"niklas\",\"offsetgroup\":\"niklas\",\"orientation\":\"v\",\"showlegend\":true,\"textposition\":\"auto\",\"x\":[\"Men\"],\"xaxis\":\"x\",\"y\":[4],\"yaxis\":\"y\",\"type\":\"bar\"}],                        {\"template\":{\"data\":{\"histogram2dcontour\":[{\"type\":\"histogram2dcontour\",\"colorbar\":{\"outlinewidth\":0,\"ticks\":\"\"},\"colorscale\":[[0.0,\"#0d0887\"],[0.1111111111111111,\"#46039f\"],[0.2222222222222222,\"#7201a8\"],[0.3333333333333333,\"#9c179e\"],[0.4444444444444444,\"#bd3786\"],[0.5555555555555556,\"#d8576b\"],[0.6666666666666666,\"#ed7953\"],[0.7777777777777778,\"#fb9f3a\"],[0.8888888888888888,\"#fdca26\"],[1.0,\"#f0f921\"]]}],\"choropleth\":[{\"type\":\"choropleth\",\"colorbar\":{\"outlinewidth\":0,\"ticks\":\"\"}}],\"histogram2d\":[{\"type\":\"histogram2d\",\"colorbar\":{\"outlinewidth\":0,\"ticks\":\"\"},\"colorscale\":[[0.0,\"#0d0887\"],[0.1111111111111111,\"#46039f\"],[0.2222222222222222,\"#7201a8\"],[0.3333333333333333,\"#9c179e\"],[0.4444444444444444,\"#bd3786\"],[0.5555555555555556,\"#d8576b\"],[0.6666666666666666,\"#ed7953\"],[0.7777777777777778,\"#fb9f3a\"],[0.8888888888888888,\"#fdca26\"],[1.0,\"#f0f921\"]]}],\"heatmap\":[{\"type\":\"heatmap\",\"colorbar\":{\"outlinewidth\":0,\"ticks\":\"\"},\"colorscale\":[[0.0,\"#0d0887\"],[0.1111111111111111,\"#46039f\"],[0.2222222222222222,\"#7201a8\"],[0.3333333333333333,\"#9c179e\"],[0.4444444444444444,\"#bd3786\"],[0.5555555555555556,\"#d8576b\"],[0.6666666666666666,\"#ed7953\"],[0.7777777777777778,\"#fb9f3a\"],[0.8888888888888888,\"#fdca26\"],[1.0,\"#f0f921\"]]}],\"heatmapgl\":[{\"type\":\"heatmapgl\",\"colorbar\":{\"outlinewidth\":0,\"ticks\":\"\"},\"colorscale\":[[0.0,\"#0d0887\"],[0.1111111111111111,\"#46039f\"],[0.2222222222222222,\"#7201a8\"],[0.3333333333333333,\"#9c179e\"],[0.4444444444444444,\"#bd3786\"],[0.5555555555555556,\"#d8576b\"],[0.6666666666666666,\"#ed7953\"],[0.7777777777777778,\"#fb9f3a\"],[0.8888888888888888,\"#fdca26\"],[1.0,\"#f0f921\"]]}],\"contourcarpet\":[{\"type\":\"contourcarpet\",\"colorbar\":{\"outlinewidth\":0,\"ticks\":\"\"}}],\"contour\":[{\"type\":\"contour\",\"colorbar\":{\"outlinewidth\":0,\"ticks\":\"\"},\"colorscale\":[[0.0,\"#0d0887\"],[0.1111111111111111,\"#46039f\"],[0.2222222222222222,\"#7201a8\"],[0.3333333333333333,\"#9c179e\"],[0.4444444444444444,\"#bd3786\"],[0.5555555555555556,\"#d8576b\"],[0.6666666666666666,\"#ed7953\"],[0.7777777777777778,\"#fb9f3a\"],[0.8888888888888888,\"#fdca26\"],[1.0,\"#f0f921\"]]}],\"surface\":[{\"type\":\"surface\",\"colorbar\":{\"outlinewidth\":0,\"ticks\":\"\"},\"colorscale\":[[0.0,\"#0d0887\"],[0.1111111111111111,\"#46039f\"],[0.2222222222222222,\"#7201a8\"],[0.3333333333333333,\"#9c179e\"],[0.4444444444444444,\"#bd3786\"],[0.5555555555555556,\"#d8576b\"],[0.6666666666666666,\"#ed7953\"],[0.7777777777777778,\"#fb9f3a\"],[0.8888888888888888,\"#fdca26\"],[1.0,\"#f0f921\"]]}],\"mesh3d\":[{\"type\":\"mesh3d\",\"colorbar\":{\"outlinewidth\":0,\"ticks\":\"\"}}],\"scatter\":[{\"fillpattern\":{\"fillmode\":\"overlay\",\"size\":10,\"solidity\":0.2},\"type\":\"scatter\"}],\"parcoords\":[{\"type\":\"parcoords\",\"line\":{\"colorbar\":{\"outlinewidth\":0,\"ticks\":\"\"}}}],\"scatterpolargl\":[{\"type\":\"scatterpolargl\",\"marker\":{\"colorbar\":{\"outlinewidth\":0,\"ticks\":\"\"}}}],\"bar\":[{\"error_x\":{\"color\":\"#2a3f5f\"},\"error_y\":{\"color\":\"#2a3f5f\"},\"marker\":{\"line\":{\"color\":\"#E5ECF6\",\"width\":0.5},\"pattern\":{\"fillmode\":\"overlay\",\"size\":10,\"solidity\":0.2}},\"type\":\"bar\"}],\"scattergeo\":[{\"type\":\"scattergeo\",\"marker\":{\"colorbar\":{\"outlinewidth\":0,\"ticks\":\"\"}}}],\"scatterpolar\":[{\"type\":\"scatterpolar\",\"marker\":{\"colorbar\":{\"outlinewidth\":0,\"ticks\":\"\"}}}],\"histogram\":[{\"marker\":{\"pattern\":{\"fillmode\":\"overlay\",\"size\":10,\"solidity\":0.2}},\"type\":\"histogram\"}],\"scattergl\":[{\"type\":\"scattergl\",\"marker\":{\"colorbar\":{\"outlinewidth\":0,\"ticks\":\"\"}}}],\"scatter3d\":[{\"type\":\"scatter3d\",\"line\":{\"colorbar\":{\"outlinewidth\":0,\"ticks\":\"\"}},\"marker\":{\"colorbar\":{\"outlinewidth\":0,\"ticks\":\"\"}}}],\"scattermapbox\":[{\"type\":\"scattermapbox\",\"marker\":{\"colorbar\":{\"outlinewidth\":0,\"ticks\":\"\"}}}],\"scatterternary\":[{\"type\":\"scatterternary\",\"marker\":{\"colorbar\":{\"outlinewidth\":0,\"ticks\":\"\"}}}],\"scattercarpet\":[{\"type\":\"scattercarpet\",\"marker\":{\"colorbar\":{\"outlinewidth\":0,\"ticks\":\"\"}}}],\"carpet\":[{\"aaxis\":{\"endlinecolor\":\"#2a3f5f\",\"gridcolor\":\"white\",\"linecolor\":\"white\",\"minorgridcolor\":\"white\",\"startlinecolor\":\"#2a3f5f\"},\"baxis\":{\"endlinecolor\":\"#2a3f5f\",\"gridcolor\":\"white\",\"linecolor\":\"white\",\"minorgridcolor\":\"white\",\"startlinecolor\":\"#2a3f5f\"},\"type\":\"carpet\"}],\"table\":[{\"cells\":{\"fill\":{\"color\":\"#EBF0F8\"},\"line\":{\"color\":\"white\"}},\"header\":{\"fill\":{\"color\":\"#C8D4E3\"},\"line\":{\"color\":\"white\"}},\"type\":\"table\"}],\"barpolar\":[{\"marker\":{\"line\":{\"color\":\"#E5ECF6\",\"width\":0.5},\"pattern\":{\"fillmode\":\"overlay\",\"size\":10,\"solidity\":0.2}},\"type\":\"barpolar\"}],\"pie\":[{\"automargin\":true,\"type\":\"pie\"}]},\"layout\":{\"autotypenumbers\":\"strict\",\"colorway\":[\"#636efa\",\"#EF553B\",\"#00cc96\",\"#ab63fa\",\"#FFA15A\",\"#19d3f3\",\"#FF6692\",\"#B6E880\",\"#FF97FF\",\"#FECB52\"],\"font\":{\"color\":\"#2a3f5f\"},\"hovermode\":\"closest\",\"hoverlabel\":{\"align\":\"left\"},\"paper_bgcolor\":\"white\",\"plot_bgcolor\":\"#E5ECF6\",\"polar\":{\"bgcolor\":\"#E5ECF6\",\"angularaxis\":{\"gridcolor\":\"white\",\"linecolor\":\"white\",\"ticks\":\"\"},\"radialaxis\":{\"gridcolor\":\"white\",\"linecolor\":\"white\",\"ticks\":\"\"}},\"ternary\":{\"bgcolor\":\"#E5ECF6\",\"aaxis\":{\"gridcolor\":\"white\",\"linecolor\":\"white\",\"ticks\":\"\"},\"baxis\":{\"gridcolor\":\"white\",\"linecolor\":\"white\",\"ticks\":\"\"},\"caxis\":{\"gridcolor\":\"white\",\"linecolor\":\"white\",\"ticks\":\"\"}},\"coloraxis\":{\"colorbar\":{\"outlinewidth\":0,\"ticks\":\"\"}},\"colorscale\":{\"sequential\":[[0.0,\"#0d0887\"],[0.1111111111111111,\"#46039f\"],[0.2222222222222222,\"#7201a8\"],[0.3333333333333333,\"#9c179e\"],[0.4444444444444444,\"#bd3786\"],[0.5555555555555556,\"#d8576b\"],[0.6666666666666666,\"#ed7953\"],[0.7777777777777778,\"#fb9f3a\"],[0.8888888888888888,\"#fdca26\"],[1.0,\"#f0f921\"]],\"sequentialminus\":[[0.0,\"#0d0887\"],[0.1111111111111111,\"#46039f\"],[0.2222222222222222,\"#7201a8\"],[0.3333333333333333,\"#9c179e\"],[0.4444444444444444,\"#bd3786\"],[0.5555555555555556,\"#d8576b\"],[0.6666666666666666,\"#ed7953\"],[0.7777777777777778,\"#fb9f3a\"],[0.8888888888888888,\"#fdca26\"],[1.0,\"#f0f921\"]],\"diverging\":[[0,\"#8e0152\"],[0.1,\"#c51b7d\"],[0.2,\"#de77ae\"],[0.3,\"#f1b6da\"],[0.4,\"#fde0ef\"],[0.5,\"#f7f7f7\"],[0.6,\"#e6f5d0\"],[0.7,\"#b8e186\"],[0.8,\"#7fbc41\"],[0.9,\"#4d9221\"],[1,\"#276419\"]]},\"xaxis\":{\"gridcolor\":\"white\",\"linecolor\":\"white\",\"ticks\":\"\",\"title\":{\"standoff\":15},\"zerolinecolor\":\"white\",\"automargin\":true,\"zerolinewidth\":2},\"yaxis\":{\"gridcolor\":\"white\",\"linecolor\":\"white\",\"ticks\":\"\",\"title\":{\"standoff\":15},\"zerolinecolor\":\"white\",\"automargin\":true,\"zerolinewidth\":2},\"scene\":{\"xaxis\":{\"backgroundcolor\":\"#E5ECF6\",\"gridcolor\":\"white\",\"linecolor\":\"white\",\"showbackground\":true,\"ticks\":\"\",\"zerolinecolor\":\"white\",\"gridwidth\":2},\"yaxis\":{\"backgroundcolor\":\"#E5ECF6\",\"gridcolor\":\"white\",\"linecolor\":\"white\",\"showbackground\":true,\"ticks\":\"\",\"zerolinecolor\":\"white\",\"gridwidth\":2},\"zaxis\":{\"backgroundcolor\":\"#E5ECF6\",\"gridcolor\":\"white\",\"linecolor\":\"white\",\"showbackground\":true,\"ticks\":\"\",\"zerolinecolor\":\"white\",\"gridwidth\":2}},\"shapedefaults\":{\"line\":{\"color\":\"#2a3f5f\"}},\"annotationdefaults\":{\"arrowcolor\":\"#2a3f5f\",\"arrowhead\":0,\"arrowwidth\":1},\"geo\":{\"bgcolor\":\"white\",\"landcolor\":\"#E5ECF6\",\"subunitcolor\":\"white\",\"showland\":true,\"showlakes\":true,\"lakecolor\":\"white\"},\"title\":{\"x\":0.05},\"mapbox\":{\"style\":\"light\"}}},\"xaxis\":{\"anchor\":\"y\",\"domain\":[0.0,1.0],\"title\":{\"text\":\"Predicted Gender\"}},\"yaxis\":{\"anchor\":\"x\",\"domain\":[0.0,1.0],\"title\":{\"text\":\"Count\"}},\"legend\":{\"title\":{\"text\":\"Name\"},\"tracegroupgap\":0},\"title\":{\"text\":\"Predicted Gender, Name, and Emotion Distribution\"},\"barmode\":\"group\"},                        {\"responsive\": true}                    ).then(function(){\n",
              "                            \n",
              "var gd = document.getElementById('056f81f5-6866-4a41-9b5a-de23d27af911');\n",
              "var x = new MutationObserver(function (mutations, observer) {{\n",
              "        var display = window.getComputedStyle(gd).display;\n",
              "        if (!display || display === 'none') {{\n",
              "            console.log([gd, 'removed!']);\n",
              "            Plotly.purge(gd);\n",
              "            observer.disconnect();\n",
              "        }}\n",
              "}});\n",
              "\n",
              "// Listen for the removal of the full notebook cells\n",
              "var notebookContainer = gd.closest('#notebook-container');\n",
              "if (notebookContainer) {{\n",
              "    x.observe(notebookContainer, {childList: true});\n",
              "}}\n",
              "\n",
              "// Listen for the clearing of the current output cell\n",
              "var outputEl = gd.closest('.output');\n",
              "if (outputEl) {{\n",
              "    x.observe(outputEl, {childList: true});\n",
              "}}\n",
              "\n",
              "                        })                };                            </script>        </div>\n",
              "</body>\n",
              "</html>"
            ]
          },
          "metadata": {},
          "output_type": "display_data"
        }
      ],
      "source": [
        "#--------------------------\n",
        "#------------------------\n",
        "import pandas as pd\n",
        "import wandb\n",
        "import plotly.express as px\n",
        "\n",
        "# Assume df is your DataFrame\n",
        "\n",
        "# Group the DataFrame by 'Predicted Gender', 'Name', and 'Predicted Emotion', and count the occurrences\n",
        "grouped_df = df.groupby(['Predicted Gender', 'Name', 'Predicted Emotion']).size().reset_index(name='Count')\n",
        "\n",
        "# Plotting the grouped bar chart\n",
        "fig = px.bar(grouped_df,\n",
        "             x='Predicted Gender',\n",
        "             y='Count',\n",
        "             color='Name',\n",
        "             barmode='group',\n",
        "             title='Predicted Gender, Name, and Emotion Distribution',\n",
        "             labels={'Predicted Gender': 'Predicted Gender', 'Count': 'Count'},\n",
        "             category_orders={'Name': sorted(grouped_df['Name'].unique())})\n",
        "\n",
        "# Log the figure to W&B\n",
        "wandb.log({\"Prediction-by_Gen-Name-Emotion-I\": fig})\n",
        "\n",
        "# Show the plot (if needed)\n",
        "fig.show()\n"
      ]
    },
    {
      "cell_type": "markdown",
      "metadata": {
        "id": "ysk8VXpE5bJR"
      },
      "source": [
        "Matrix"
      ]
    },
    {
      "cell_type": "code",
      "execution_count": 41,
      "metadata": {
        "colab": {
          "base_uri": "https://localhost:8080/",
          "height": 564
        },
        "id": "uwRlnKutTUIO",
        "outputId": "67227566-23dc-4b6d-9a22-59ce42e92a22"
      },
      "outputs": [
        {
          "data": {
            "image/png": "[encoded data removed]",
            "text/plain": [
              "<Figure size 600x600 with 2 Axes>"
            ]
          },
          "metadata": {},
          "output_type": "display_data"
        }
      ],
      "source": [
        "# Generate a confusion matrix for gender predictions\n",
        "conf_matrix = confusion_matrix(df['Predicted Gender'], df['Correct Prediction'])\n",
        "\n",
        "# Plotting the confusion matrix as a heatmap\n",
        "plt.figure(figsize=(6, 6))\n",
        "sns.heatmap(conf_matrix, annot=True, fmt='g', cmap='Blues', xticklabels=['Correct', 'Incorrect'], yticklabels=['Men', 'Women'])\n",
        "plt.xlabel('Predicted Label')\n",
        "plt.ylabel('True Label')\n",
        "plt.title('Confusion Matrix: Gender Predictions')\n",
        "\n",
        "# Save plot to buffer\n",
        "buf = BytesIO()\n",
        "plt.savefig(buf, format='png')\n",
        "buf.seek(0)\n",
        "\n",
        "# Convert buffer to numpy array\n",
        "buf_array = np.array(plt.imread(buf))\n",
        "\n",
        "# Log the image to Wandb\n",
        "wandb.log({\"Matrix\": wandb.Image(buf_array)})\n",
        "\n",
        "plt.show()"
      ]
    },
    {
      "cell_type": "markdown",
      "metadata": {
        "id": "6JWvfoLtI7Px"
      },
      "source": [
        "## Additional Task\n",
        "&#9745; Experimentieren Sie mit verschiedenen Python-Visualisierungsbibliotheken und deren Stärken.\\\n",
        "&#9745; Erstellen Sie interaktive Visualisierungen mit Bibliotheken wie Plotly.\\\n",
        "&#9745; Integrieren Sie Ihr Python-Skript in ein Jupyter Notebook für eine strukturierte Analyse."
      ]
    },
    {
      "cell_type": "code",
      "execution_count": 42,
      "metadata": {
        "colab": {
          "base_uri": "https://localhost:8080/",
          "height": 68,
          "referenced_widgets": [
            "82a6a7fef83445bdb07c4564dee5289c",
            "85c47707c4114963888f04cfef7bde3c",
            "7aa601b21e8d4a16a6b9d3736f3ee778",
            "8ba5c2ce282440109f4154c447d3c750",
            "9ec927e44641471fa617b7c776398678",
            "a4511433f96e40e9b47c6866012f5784",
            "7f49005509f94e95986c783424ff26a1",
            "8aef3e199ac84c65b31b5a1e8b32fa22"
          ]
        },
        "id": "qxXcIT2Xuckz",
        "outputId": "77b88ffa-202c-4ddf-cc01-877973de92f8"
      },
      "outputs": [
        {
          "data": {
            "application/vnd.jupyter.widget-view+json": {
              "model_id": "82a6a7fef83445bdb07c4564dee5289c",
              "version_major": 2,
              "version_minor": 0
            },
            "text/plain": [
              "VBox(children=(Label(value='0.102 MB of 0.102 MB uploaded\\r'), FloatProgress(value=1.0, max=1.0)))"
            ]
          },
          "metadata": {},
          "output_type": "display_data"
        },
        {
          "data": {
            "text/html": [
              " View run <strong style=\"color:#cdcd00\">prime-gorge-17</strong> at: <a href='https://wandb.ai/elsaesserniklas/Creating%20Visualization/runs/65lqwrx4/workspace' target=\"_blank\">https://wandb.ai/elsaesserniklas/Creating%20Visualization/runs/65lqwrx4/workspace</a><br/>Synced 5 W&B file(s), 7 media file(s), 0 artifact file(s) and 0 other file(s)"
            ],
            "text/plain": [
              "<IPython.core.display.HTML object>"
            ]
          },
          "metadata": {},
          "output_type": "display_data"
        },
        {
          "data": {
            "text/html": [
              "Find logs at: <code>./wandb/run-20240326_130216-65lqwrx4/logs</code>"
            ],
            "text/plain": [
              "<IPython.core.display.HTML object>"
            ]
          },
          "metadata": {},
          "output_type": "display_data"
        }
      ],
      "source": [
        "wandb.finish()"
      ]
    }
  ],
  "metadata": {
    "accelerator": "GPU",
    "colab": {
      "gpuType": "T4",
      "include_colab_link": true,
      "provenance": []
    },
    "kernelspec": {
      "display_name": "Python 3",
      "name": "python3"
    },
    "language_info": {
      "codemirror_mode": {
        "name": "ipython",
        "version": 3
      },
      "file_extension": ".py",
      "mimetype": "text/x-python",
      "name": "python",
      "nbconvert_exporter": "python",
      "pygments_lexer": "ipython3",
      "version": "3.11.6"
    },
    "orig_nbformat": 4,
    "vscode": {
      "interpreter": {
        "hash": "b0fa6594d8f4cbf19f97940f81e996739fb7646882a419484c72d19e05852a7e"
      }
    },
    "widgets": {
      "application/vnd.jupyter.widget-state+json": {
        "7aa601b21e8d4a16a6b9d3736f3ee778": {
          "model_module": "@jupyter-widgets/controls",
          "model_module_version": "1.5.0",
          "model_name": "FloatProgressModel",
          "state": {
            "_dom_classes": [],
            "_model_module": "@jupyter-widgets/controls",
            "_model_module_version": "1.5.0",
            "_model_name": "FloatProgressModel",
            "_view_count": null,
            "_view_module": "@jupyter-widgets/controls",
            "_view_module_version": "1.5.0",
            "_view_name": "ProgressView",
            "bar_style": "",
            "description": "",
            "description_tooltip": null,
            "layout": "IPY_MODEL_7f49005509f94e95986c783424ff26a1",
            "max": 1,
            "min": 0,
            "orientation": "horizontal",
            "style": "IPY_MODEL_8aef3e199ac84c65b31b5a1e8b32fa22",
            "value": 1
          }
        },
        "7f49005509f94e95986c783424ff26a1": {
          "model_module": "@jupyter-widgets/base",
          "model_module_version": "1.2.0",
          "model_name": "LayoutModel",
          "state": {
            "_model_module": "@jupyter-widgets/base",
            "_model_module_version": "1.2.0",
            "_model_name": "LayoutModel",
            "_view_count": null,
            "_view_module": "@jupyter-widgets/base",
            "_view_module_version": "1.2.0",
            "_view_name": "LayoutView",
            "align_content": null,
            "align_items": null,
            "align_self": null,
            "border": null,
            "bottom": null,
            "display": null,
            "flex": null,
            "flex_flow": null,
            "grid_area": null,
            "grid_auto_columns": null,
            "grid_auto_flow": null,
            "grid_auto_rows": null,
            "grid_column": null,
            "grid_gap": null,
            "grid_row": null,
            "grid_template_areas": null,
            "grid_template_columns": null,
            "grid_template_rows": null,
            "height": null,
            "justify_content": null,
            "justify_items": null,
            "left": null,
            "margin": null,
            "max_height": null,
            "max_width": null,
            "min_height": null,
            "min_width": null,
            "object_fit": null,
            "object_position": null,
            "order": null,
            "overflow": null,
            "overflow_x": null,
            "overflow_y": null,
            "padding": null,
            "right": null,
            "top": null,
            "visibility": null,
            "width": null
          }
        },
        "82a6a7fef83445bdb07c4564dee5289c": {
          "model_module": "@jupyter-widgets/controls",
          "model_module_version": "1.5.0",
          "model_name": "VBoxModel",
          "state": {
            "_dom_classes": [],
            "_model_module": "@jupyter-widgets/controls",
            "_model_module_version": "1.5.0",
            "_model_name": "VBoxModel",
            "_view_count": null,
            "_view_module": "@jupyter-widgets/controls",
            "_view_module_version": "1.5.0",
            "_view_name": "VBoxView",
            "box_style": "",
            "children": [
              "IPY_MODEL_85c47707c4114963888f04cfef7bde3c",
              "IPY_MODEL_7aa601b21e8d4a16a6b9d3736f3ee778"
            ],
            "layout": "IPY_MODEL_8ba5c2ce282440109f4154c447d3c750"
          }
        },
        "85c47707c4114963888f04cfef7bde3c": {
          "model_module": "@jupyter-widgets/controls",
          "model_module_version": "1.5.0",
          "model_name": "LabelModel",
          "state": {
            "_dom_classes": [],
            "_model_module": "@jupyter-widgets/controls",
            "_model_module_version": "1.5.0",
            "_model_name": "LabelModel",
            "_view_count": null,
            "_view_module": "@jupyter-widgets/controls",
            "_view_module_version": "1.5.0",
            "_view_name": "LabelView",
            "description": "",
            "description_tooltip": null,
            "layout": "IPY_MODEL_9ec927e44641471fa617b7c776398678",
            "placeholder": "​",
            "style": "IPY_MODEL_a4511433f96e40e9b47c6866012f5784",
            "value": "0.116 MB of 0.116 MB uploaded\r"
          }
        },
        "8aef3e199ac84c65b31b5a1e8b32fa22": {
          "model_module": "@jupyter-widgets/controls",
          "model_module_version": "1.5.0",
          "model_name": "ProgressStyleModel",
          "state": {
            "_model_module": "@jupyter-widgets/controls",
            "_model_module_version": "1.5.0",
            "_model_name": "ProgressStyleModel",
            "_view_count": null,
            "_view_module": "@jupyter-widgets/base",
            "_view_module_version": "1.2.0",
            "_view_name": "StyleView",
            "bar_color": null,
            "description_width": ""
          }
        },
        "8ba5c2ce282440109f4154c447d3c750": {
          "model_module": "@jupyter-widgets/base",
          "model_module_version": "1.2.0",
          "model_name": "LayoutModel",
          "state": {
            "_model_module": "@jupyter-widgets/base",
            "_model_module_version": "1.2.0",
            "_model_name": "LayoutModel",
            "_view_count": null,
            "_view_module": "@jupyter-widgets/base",
            "_view_module_version": "1.2.0",
            "_view_name": "LayoutView",
            "align_content": null,
            "align_items": null,
            "align_self": null,
            "border": null,
            "bottom": null,
            "display": null,
            "flex": null,
            "flex_flow": null,
            "grid_area": null,
            "grid_auto_columns": null,
            "grid_auto_flow": null,
            "grid_auto_rows": null,
            "grid_column": null,
            "grid_gap": null,
            "grid_row": null,
            "grid_template_areas": null,
            "grid_template_columns": null,
            "grid_template_rows": null,
            "height": null,
            "justify_content": null,
            "justify_items": null,
            "left": null,
            "margin": null,
            "max_height": null,
            "max_width": null,
            "min_height": null,
            "min_width": null,
            "object_fit": null,
            "object_position": null,
            "order": null,
            "overflow": null,
            "overflow_x": null,
            "overflow_y": null,
            "padding": null,
            "right": null,
            "top": null,
            "visibility": null,
            "width": null
          }
        },
        "9ec927e44641471fa617b7c776398678": {
          "model_module": "@jupyter-widgets/base",
          "model_module_version": "1.2.0",
          "model_name": "LayoutModel",
          "state": {
            "_model_module": "@jupyter-widgets/base",
            "_model_module_version": "1.2.0",
            "_model_name": "LayoutModel",
            "_view_count": null,
            "_view_module": "@jupyter-widgets/base",
            "_view_module_version": "1.2.0",
            "_view_name": "LayoutView",
            "align_content": null,
            "align_items": null,
            "align_self": null,
            "border": null,
            "bottom": null,
            "display": null,
            "flex": null,
            "flex_flow": null,
            "grid_area": null,
            "grid_auto_columns": null,
            "grid_auto_flow": null,
            "grid_auto_rows": null,
            "grid_column": null,
            "grid_gap": null,
            "grid_row": null,
            "grid_template_areas": null,
            "grid_template_columns": null,
            "grid_template_rows": null,
            "height": null,
            "justify_content": null,
            "justify_items": null,
            "left": null,
            "margin": null,
            "max_height": null,
            "max_width": null,
            "min_height": null,
            "min_width": null,
            "object_fit": null,
            "object_position": null,
            "order": null,
            "overflow": null,
            "overflow_x": null,
            "overflow_y": null,
            "padding": null,
            "right": null,
            "top": null,
            "visibility": null,
            "width": null
          }
        },
        "a4511433f96e40e9b47c6866012f5784": {
          "model_module": "@jupyter-widgets/controls",
          "model_module_version": "1.5.0",
          "model_name": "DescriptionStyleModel",
          "state": {
            "_model_module": "@jupyter-widgets/controls",
            "_model_module_version": "1.5.0",
            "_model_name": "DescriptionStyleModel",
            "_view_count": null,
            "_view_module": "@jupyter-widgets/base",
            "_view_module_version": "1.2.0",
            "_view_name": "StyleView",
            "description_width": ""
          }
        }
      }
    }
  },
  "nbformat": 4,
  "nbformat_minor": 0
}
