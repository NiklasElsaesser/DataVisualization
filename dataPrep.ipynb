{
 "cells": [
  {
   "cell_type": "code",
   "execution_count": 1,
   "metadata": {},
   "outputs": [
    {
     "name": "stdout",
     "output_type": "stream",
     "text": [
      "Requirement already satisfied: pandas in /opt/homebrew/lib/python3.11/site-packages (1.5.3)\n",
      "Requirement already satisfied: python-dateutil>=2.8.1 in /Users/niklaselsasser/Library/Python/3.11/lib/python/site-packages (from pandas) (2.8.2)\n",
      "Requirement already satisfied: pytz>=2020.1 in /opt/homebrew/lib/python3.11/site-packages (from pandas) (2023.3.post1)\n",
      "Requirement already satisfied: numpy>=1.21.0 in /opt/homebrew/lib/python3.11/site-packages (from pandas) (1.24.3)\n",
      "Requirement already satisfied: six>=1.5 in /Users/niklaselsasser/Library/Python/3.11/lib/python/site-packages (from python-dateutil>=2.8.1->pandas) (1.16.0)\n",
      "Note: you may need to restart the kernel to use updated packages.\n",
      "Requirement already satisfied: numpy in /opt/homebrew/lib/python3.11/site-packages (1.24.3)\n",
      "Note: you may need to restart the kernel to use updated packages.\n"
     ]
    }
   ],
   "source": [
    "%pip install pandas\n",
    "%pip install numpy\n"
   ]
  },
  {
   "cell_type": "code",
   "execution_count": 2,
   "metadata": {},
   "outputs": [],
   "source": [
    "import pandas as pd"
   ]
  },
  {
   "cell_type": "markdown",
   "metadata": {},
   "source": [
    "**Preparing Prognostizierter Stromverbrauch**"
   ]
  },
  {
   "cell_type": "code",
   "execution_count": 3,
   "metadata": {},
   "outputs": [
    {
     "name": "stdout",
     "output_type": "stream",
     "text": [
      "         Datum Anfang   Ende Gesamt (Netzlast) [MWh] Berechnete Auflösungen\n",
      "0   01.01.2015  00:00  00:00                                     41575670.5\n",
      "1   01.02.2015  00:00  00:00                                    38835534.75\n",
      "2   01.03.2015  00:00  00:00                                    42257557.75\n",
      "3   01.04.2015  00:00  00:00                                       38528335\n",
      "4   01.05.2015  00:00  00:00                                    37798975.75\n",
      "..         ...    ...    ...                                            ...\n",
      "35  01.12.2023  00:00  00:00                                       40324501\n",
      "0   01.01.2024  00:00  00:00                                     42395112.5\n",
      "1   01.02.2024  00:00  00:00                                    39436847.25\n",
      "2   01.03.2024  00:00  00:00                                    39837070.25\n",
      "3   01.04.2024  00:00  00:00                                              -\n",
      "\n",
      "[112 rows x 4 columns]\n"
     ]
    },
    {
     "name": "stderr",
     "output_type": "stream",
     "text": [
      "/var/folders/3t/mgckmfnn5p745wd8_80ywb0c0000gn/T/ipykernel_45389/3242828712.py:9: FutureWarning: The default value of regex will change from True to False in a future version. In addition, single character regular expressions will *not* be treated as literal strings when regex=True.\n",
      "  progStr_15_16['Gesamt (Netzlast) [MWh] Berechnete Auflösungen'] = progStr_15_16['Gesamt (Netzlast) [MWh] Berechnete Auflösungen'].str.replace('.', '').str.replace(',', '.')\n",
      "/var/folders/3t/mgckmfnn5p745wd8_80ywb0c0000gn/T/ipykernel_45389/3242828712.py:10: FutureWarning: The default value of regex will change from True to False in a future version. In addition, single character regular expressions will *not* be treated as literal strings when regex=True.\n",
      "  progStr_17_18['Gesamt (Netzlast) [MWh] Berechnete Auflösungen'] = progStr_17_18['Gesamt (Netzlast) [MWh] Berechnete Auflösungen'].str.replace('.', '').str.replace(',', '.')\n",
      "/var/folders/3t/mgckmfnn5p745wd8_80ywb0c0000gn/T/ipykernel_45389/3242828712.py:11: FutureWarning: The default value of regex will change from True to False in a future version. In addition, single character regular expressions will *not* be treated as literal strings when regex=True.\n",
      "  progStr_19_20['Gesamt (Netzlast) [MWh] Berechnete Auflösungen'] = progStr_19_20['Gesamt (Netzlast) [MWh] Berechnete Auflösungen'].str.replace('.', '').str.replace(',', '.')\n",
      "/var/folders/3t/mgckmfnn5p745wd8_80ywb0c0000gn/T/ipykernel_45389/3242828712.py:12: FutureWarning: The default value of regex will change from True to False in a future version. In addition, single character regular expressions will *not* be treated as literal strings when regex=True.\n",
      "  progStr_21_23['Gesamt (Netzlast) [MWh] Berechnete Auflösungen'] = progStr_21_23['Gesamt (Netzlast) [MWh] Berechnete Auflösungen'].str.replace('.', '').str.replace(',', '.')\n",
      "/var/folders/3t/mgckmfnn5p745wd8_80ywb0c0000gn/T/ipykernel_45389/3242828712.py:13: FutureWarning: The default value of regex will change from True to False in a future version. In addition, single character regular expressions will *not* be treated as literal strings when regex=True.\n",
      "  progStr_24['Gesamt (Netzlast) [MWh] Berechnete Auflösungen'] = progStr_24['Gesamt (Netzlast) [MWh] Berechnete Auflösungen'].str.replace('.', '').str.replace(',', '.')\n"
     ]
    }
   ],
   "source": [
    "# open Data for \"prognostizierter Stromverbrauch\" in Germany from 2015 - 2024\n",
    "progStr_15_16 = pd.read_csv('Data/SMARD/Data_2015_2016/progStr_2015_2016.csv', sep=';')\n",
    "progStr_17_18 = pd.read_csv('Data/SMARD/Data_2017_2018/progStr_2017_2018.csv', sep=';')\n",
    "progStr_19_20 = pd.read_csv('Data/SMARD/Data_2019_2020/progStr_2019_2020.csv', sep=';')\n",
    "progStr_21_23 = pd.read_csv('Data/SMARD/Data_2021_2023/progStr_2021_2023.csv', sep=';')\n",
    "progStr_24 = pd.read_csv('Data/SMARD/Data_2024/progStr_2024.csv', sep=';')\n",
    "\n",
    "# Convert the value to the desired format\n",
    "progStr_15_16['Gesamt (Netzlast) [MWh] Berechnete Auflösungen'] = progStr_15_16['Gesamt (Netzlast) [MWh] Berechnete Auflösungen'].str.replace('.', '').str.replace(',', '.')\n",
    "progStr_17_18['Gesamt (Netzlast) [MWh] Berechnete Auflösungen'] = progStr_17_18['Gesamt (Netzlast) [MWh] Berechnete Auflösungen'].str.replace('.', '').str.replace(',', '.')\n",
    "progStr_19_20['Gesamt (Netzlast) [MWh] Berechnete Auflösungen'] = progStr_19_20['Gesamt (Netzlast) [MWh] Berechnete Auflösungen'].str.replace('.', '').str.replace(',', '.')\n",
    "progStr_21_23['Gesamt (Netzlast) [MWh] Berechnete Auflösungen'] = progStr_21_23['Gesamt (Netzlast) [MWh] Berechnete Auflösungen'].str.replace('.', '').str.replace(',', '.')\n",
    "progStr_24['Gesamt (Netzlast) [MWh] Berechnete Auflösungen'] = progStr_24['Gesamt (Netzlast) [MWh] Berechnete Auflösungen'].str.replace('.', '').str.replace(',', '.')\n",
    "\n",
    "\n",
    "\n",
    "# Combine all the dataframes to create a new dataframe combining the data from 2015 to 2024\n",
    "progStr_15_24 = pd.concat([progStr_15_16, progStr_17_18, progStr_19_20, progStr_21_23, progStr_24])\n",
    "\n",
    "# Assuming 'Datum' is the column containing the dates\n",
    "#progStr_15_24['Datum'] = pd.to_datetime(progStr_15_24['Datum'], format='%d.%m.%Y').dt.strftime('%Y-%-m-%-d')\n",
    "\n",
    "\n",
    "\n",
    "# Write the combined dataframe as CSV file\n",
    "#progStr_15_24.to_csv('Data/SMARD/progStr_2015_2024.csv', index=False)\n",
    "\n",
    "\n",
    "# display the dataframe\n",
    "print(progStr_15_24)"
   ]
  },
  {
   "cell_type": "markdown",
   "metadata": {},
   "source": [
    "**Preparing realisierte Erzeugung**"
   ]
  },
  {
   "cell_type": "code",
   "execution_count": 4,
   "metadata": {},
   "outputs": [
    {
     "name": "stdout",
     "output_type": "stream",
     "text": [
      "[MWh] Berechnete Auflösungen\n",
      "         Datum Anfang   Ende      Biomasse   Wasserkraft Wind Offshore  \\\n",
      "0   01.01.2015  00:00  00:00     3.006.253  1.160.768,75    261.972,25   \n",
      "1   01.02.2015  00:00  00:00  2.701.292,75       866.154       282.760   \n",
      "2   01.03.2015  00:00  00:00  2.945.423,25   1.026.580,5    432.080,75   \n",
      "3   01.04.2015  00:00  00:00   2.855.391,5     1.242.024    378.500,25   \n",
      "4   01.05.2015  00:00  00:00  2.944.932,75     1.528.050    565.152,75   \n",
      "..         ...    ...    ...           ...           ...           ...   \n",
      "35  01.12.2023  00:00  00:00     3.159.116   1.315.521,5   2.990.697,5   \n",
      "0   01.01.2024  00:00  00:00   3.169.128,5  1.341.064,75  3.036.663,75   \n",
      "1   01.02.2024  00:00  00:00   3.265.464,5     1.236.684   2.779.321,5   \n",
      "2   01.03.2024  00:00  00:00   3.529.986,5     1.261.868   2.734.502,5   \n",
      "3   01.04.2024  00:00  00:00             -             -             -   \n",
      "\n",
      "    Wind Onshore  Photovoltaik Sonstige Erneuerbare     Braunkohle  \\\n",
      "0   9.081.274,75     559.673,5            97.758,25   11.800.178,5   \n",
      "1   4.865.703,75  1.371.004,25             83.894,5     11.249.758   \n",
      "2    6.491.865,5  2.858.577,25             71.699,5  12.177.191,25   \n",
      "3    4.624.380,5     4.435.389            95.564,25   10.200.744,5   \n",
      "4      4.697.643     4.411.590             80.552,5    8.935.801,5   \n",
      "..           ...           ...                  ...            ...   \n",
      "35    16.134.519    795.349,75            99.612,25    6.904.953,5   \n",
      "0   15.380.691,5  1.501.247,75              106.330   6.819.909,25   \n",
      "1     14.050.640   2.261.684,5             82.428,5    6.010.242,5   \n",
      "2      9.245.620   4.607.340,5               62.032      6.480.358   \n",
      "3              -             -                    -              -   \n",
      "\n",
      "      Steinkohle        Erdgas Pumpspeicher Sonstige Konventionelle  \n",
      "0    6.387.684,5   1.405.692,5      862.461               5.424.207  \n",
      "1      7.886.900  1.615.355,25   756.012,75            5.815.809,75  \n",
      "2    7.320.070,5  1.359.916,25   900.734,75             5.460.914,5  \n",
      "3   5.994.326,25       850.204   823.908,25            4.534.967,25  \n",
      "4   4.295.094,75     866.141,5   898.907,25             3.889.602,5  \n",
      "..           ...           ...          ...                     ...  \n",
      "35  3.933.812,75  5.259.085,75    1.003.147            1.054.459,25  \n",
      "0      4.036.643  6.539.274,25      952.184                 960.552  \n",
      "1   2.585.052,25     4.835.138      931.198              937.222,75  \n",
      "2   2.096.712,25  4.224.918,75  1.066.819,5              782.754,13  \n",
      "3              -             -            -                       -  \n",
      "\n",
      "[112 rows x 14 columns]\n"
     ]
    }
   ],
   "source": [
    "# open Data for \"realisierte Erzeugung\" in Germany from 2015 - 2024\n",
    "realErz_15_16 = pd.read_csv('Data/SMARD/Data_2015_2016/realErz_2015_2016.csv', sep=';')\n",
    "realErz_17_18 = pd.read_csv('Data/SMARD/Data_2017_2018/realErz_2017_2018.csv', sep=';')\n",
    "realErz_19_20 = pd.read_csv('Data/SMARD/Data_2019_2020/realErz_2019_2020.csv', sep=';')\n",
    "realErz_21_23 = pd.read_csv('Data/SMARD/Data_2021_2023/realErz_2021_2023.csv', sep=';')\n",
    "realErz_24 = pd.read_csv('Data/SMARD/Data_2024/realErz_2024.csv', sep=';')\n",
    "\n",
    "# Combine all the dataframes to create a new dataframe combining the data from 2015 to 2024\n",
    "realErz_15_24 = pd.concat([realErz_15_16, realErz_17_18, realErz_19_20, realErz_21_23, realErz_24])\n",
    "\n",
    "# Write the combined dataframe as CSV file\n",
    "#realErz_15_24.to_csv('Data/SMARD/realErz_2015_2024.csv', index=False)\n",
    "\n",
    "print(\"[MWh] Berechnete Auflösungen\")\n",
    "# display the dataframe\n",
    "print(realErz_15_24)"
   ]
  },
  {
   "cell_type": "markdown",
   "metadata": {},
   "source": [
    "**Preparing realisierter Stromverbrauch**"
   ]
  },
  {
   "cell_type": "code",
   "execution_count": 5,
   "metadata": {},
   "outputs": [
    {
     "name": "stdout",
     "output_type": "stream",
     "text": [
      "[MWh] Berechnete Auflösungen\n",
      "         Datum Anfang   Ende Gesamt (Netzlast) [MWh] Berechnete Auflösungen\n",
      "0   01.01.2015  00:00  00:00                                    45142690.25\n",
      "1   01.02.2015  00:00  00:00                                     42095506.5\n",
      "2   01.03.2015  00:00  00:00                                       44331785\n",
      "3   01.04.2015  00:00  00:00                                       40041540\n",
      "4   01.05.2015  00:00  00:00                                       39296911\n",
      "..         ...    ...    ...                                            ...\n",
      "35  01.12.2023  00:00  00:00                                       40961607\n",
      "0   01.01.2024  00:00  00:00                                    43420787.75\n",
      "1   01.02.2024  00:00  00:00                                     39532215.5\n",
      "2   01.03.2024  00:00  00:00                                    38575908.25\n",
      "3   01.04.2024  00:00  00:00                                              -\n",
      "\n",
      "[112 rows x 4 columns]\n"
     ]
    },
    {
     "name": "stderr",
     "output_type": "stream",
     "text": [
      "/var/folders/3t/mgckmfnn5p745wd8_80ywb0c0000gn/T/ipykernel_45389/3111544285.py:17: FutureWarning: The default value of regex will change from True to False in a future version. In addition, single character regular expressions will *not* be treated as literal strings when regex=True.\n",
      "  realStr_15_24['Gesamt (Netzlast) [MWh] Berechnete Auflösungen'] = realStr_15_24['Gesamt (Netzlast) [MWh] Berechnete Auflösungen'].str.replace('.', '').str.replace(',', '.')\n"
     ]
    }
   ],
   "source": [
    "# open Data for \"realisierte Strom\" in Germany from 2015 - 2024\n",
    "realStr_15_16 = pd.read_csv('Data/SMARD/Data_2015_2016/realStr_2015_2016.csv', sep=';')\n",
    "realStr_17_18 = pd.read_csv('Data/SMARD/Data_2017_2018/realStr_2017_2018.csv', sep=';')\n",
    "realStr_19_20 = pd.read_csv('Data/SMARD/Data_2019_2020/realStr_2019_2020.csv', sep=';')\n",
    "realStr_21_23 = pd.read_csv('Data/SMARD/Data_2021_2023/realStr_2021_2023.csv', sep=';')\n",
    "realStr_24 = pd.read_csv('Data/SMARD/Data_2024/realStr_2024.csv', sep=';')\n",
    "\n",
    "\n",
    "\n",
    "# Combine all the dataframes to create a new dataframe combining the data from 2015 to 2024\n",
    "realStr_15_24 = pd.concat([realStr_15_16, realStr_17_18, realStr_19_20, realStr_21_23, realStr_24])\n",
    "\n",
    "# Assuming 'Datum' is the column containing the dates\n",
    "#realStr_15_24['Datum'] = pd.to_datetime(realStr_15_24['Datum'], format='%d.%m.%Y').dt.strftime('%Y-%-m-%-d')\n",
    "\n",
    "#delete this line to undo string to float conversion (get points and commas back)\n",
    "realStr_15_24['Gesamt (Netzlast) [MWh] Berechnete Auflösungen'] = realStr_15_24['Gesamt (Netzlast) [MWh] Berechnete Auflösungen'].str.replace('.', '').str.replace(',', '.')\n",
    "\n",
    "# Write the combined dataframe as CSV file\n",
    "#realStr_15_24.to_csv('Data/SMARD/realStr_2015_2024.csv', index=False)\n",
    "\n",
    "print(\"[MWh] Berechnete Auflösungen\")\n",
    "# display the dataframe\n",
    "print(realStr_15_24)"
   ]
  },
  {
   "cell_type": "markdown",
   "metadata": {},
   "source": [
    "**Combining prognostizierten und realisierten Stromverbrauch**"
   ]
  },
  {
   "cell_type": "code",
   "execution_count": 6,
   "metadata": {},
   "outputs": [
    {
     "name": "stdout",
     "output_type": "stream",
     "text": [
      "          Datum Prognostizierter Stromverbrauch Realisierter Stromverbrauch\n",
      "0    01.01.2015                      41575670.5                 45142690.25\n",
      "1    01.02.2015                     38835534.75                  42095506.5\n",
      "2    01.03.2015                     42257557.75                    44331785\n",
      "3    01.04.2015                        38528335                    40041540\n",
      "4    01.05.2015                     37798975.75                    39296911\n",
      "..          ...                             ...                         ...\n",
      "107  01.12.2023                        40324501                    40961607\n",
      "108  01.01.2024                      42395112.5                 43420787.75\n",
      "109  01.02.2024                     39436847.25                  39532215.5\n",
      "110  01.03.2024                     39837070.25                 38575908.25\n",
      "111  01.04.2024                               -                           -\n",
      "\n",
      "[112 rows x 3 columns]\n"
     ]
    }
   ],
   "source": [
    "progStr_15_24 = pd.read_csv('Data/SMARD/progStr_2015_2024.csv')\n",
    "realStr_15_24 = pd.read_csv('Data/SMARD/realStr_2015_2024.csv')\n",
    "realErz_15_24 = pd.read_csv('Data/SMARD/realErz_2015_2024.csv')\n",
    "\n",
    "\n",
    "progStr_15_24_d = progStr_15_24.drop(columns=['Anfang'])\n",
    "progStr_15_24_dz = progStr_15_24_d.drop(columns=['Ende'])\n",
    "realStr_15_24_d = realStr_15_24.drop(columns=['Anfang'])\n",
    "realStr_15_24_dz = realStr_15_24_d.drop(columns=['Ende'])\n",
    "\n",
    "neuer_df = progStr_15_24_dz.merge(realStr_15_24_dz[['Datum', 'Gesamt (Netzlast) [MWh] Berechnete Auflösungen']], on='Datum', how='left')\n",
    "\n",
    "neuer_df = neuer_df.rename(columns={\"Gesamt (Netzlast) [MWh] Berechnete Auflösungen_x\": \"Prognostizierter Stromverbrauch\", \n",
    "                                    \"Gesamt (Netzlast) [MWh] Berechnete Auflösungen_y\": \"Realisierter Stromverbrauch\"})\n",
    "\n",
    "#neuer_df.to_csv('Data/SMARD/combined_2015_2024.csv', index=False)\n",
    "\n",
    "print(neuer_df)"
   ]
  },
  {
   "cell_type": "markdown",
   "metadata": {},
   "source": [
    "**Converting String to Numbers for Realisierte Erzeugung**"
   ]
  },
  {
   "cell_type": "code",
   "execution_count": 20,
   "metadata": {},
   "outputs": [
    {
     "name": "stderr",
     "output_type": "stream",
     "text": [
      "/var/folders/3t/mgckmfnn5p745wd8_80ywb0c0000gn/T/ipykernel_45389/3188748355.py:6: FutureWarning: The default value of regex will change from True to False in a future version. In addition, single character regular expressions will *not* be treated as literal strings when regex=True.\n",
      "  realErz_15_24_dz['Biomasse'] = realErz_15_24['Biomasse'].str.replace('.', '').str.replace(',', '.')\n",
      "/var/folders/3t/mgckmfnn5p745wd8_80ywb0c0000gn/T/ipykernel_45389/3188748355.py:7: FutureWarning: The default value of regex will change from True to False in a future version. In addition, single character regular expressions will *not* be treated as literal strings when regex=True.\n",
      "  realErz_15_24_dz['Wasserkraft'] = realErz_15_24_dz['Wasserkraft'].str.replace('.', '').str.replace(',', '.')\n",
      "/var/folders/3t/mgckmfnn5p745wd8_80ywb0c0000gn/T/ipykernel_45389/3188748355.py:8: FutureWarning: The default value of regex will change from True to False in a future version. In addition, single character regular expressions will *not* be treated as literal strings when regex=True.\n",
      "  realErz_15_24_dz['Wind Offshore'] = realErz_15_24_dz['Wind Offshore'].str.replace('.', '').str.replace(',', '.')\n",
      "/var/folders/3t/mgckmfnn5p745wd8_80ywb0c0000gn/T/ipykernel_45389/3188748355.py:9: FutureWarning: The default value of regex will change from True to False in a future version. In addition, single character regular expressions will *not* be treated as literal strings when regex=True.\n",
      "  realErz_15_24_dz['Wind Onshore'] = realErz_15_24_dz['Wind Onshore'].str.replace('.', '').str.replace(',', '.')\n",
      "/var/folders/3t/mgckmfnn5p745wd8_80ywb0c0000gn/T/ipykernel_45389/3188748355.py:10: FutureWarning: The default value of regex will change from True to False in a future version. In addition, single character regular expressions will *not* be treated as literal strings when regex=True.\n",
      "  realErz_15_24_dz['Photovoltaik'] = realErz_15_24_dz['Photovoltaik'].str.replace('.', '').str.replace(',', '.')\n",
      "/var/folders/3t/mgckmfnn5p745wd8_80ywb0c0000gn/T/ipykernel_45389/3188748355.py:11: FutureWarning: The default value of regex will change from True to False in a future version. In addition, single character regular expressions will *not* be treated as literal strings when regex=True.\n",
      "  realErz_15_24_dz['Sonstige Erneuerbare'] = realErz_15_24_dz['Sonstige Erneuerbare'].str.replace('.', '').str.replace(',', '.')\n",
      "/var/folders/3t/mgckmfnn5p745wd8_80ywb0c0000gn/T/ipykernel_45389/3188748355.py:12: FutureWarning: The default value of regex will change from True to False in a future version. In addition, single character regular expressions will *not* be treated as literal strings when regex=True.\n",
      "  realErz_15_24_dz['Braunkohle'] = realErz_15_24_dz['Braunkohle'].str.replace('.', '').str.replace(',', '.')\n",
      "/var/folders/3t/mgckmfnn5p745wd8_80ywb0c0000gn/T/ipykernel_45389/3188748355.py:13: FutureWarning: The default value of regex will change from True to False in a future version. In addition, single character regular expressions will *not* be treated as literal strings when regex=True.\n",
      "  realErz_15_24_dz['Steinkohle'] = realErz_15_24_dz['Steinkohle'].str.replace('.', '').str.replace(',', '.')\n",
      "/var/folders/3t/mgckmfnn5p745wd8_80ywb0c0000gn/T/ipykernel_45389/3188748355.py:14: FutureWarning: The default value of regex will change from True to False in a future version. In addition, single character regular expressions will *not* be treated as literal strings when regex=True.\n",
      "  realErz_15_24_dz['Erdgas'] = realErz_15_24_dz['Erdgas'].str.replace('.', '').str.replace(',', '.')\n",
      "/var/folders/3t/mgckmfnn5p745wd8_80ywb0c0000gn/T/ipykernel_45389/3188748355.py:15: FutureWarning: The default value of regex will change from True to False in a future version. In addition, single character regular expressions will *not* be treated as literal strings when regex=True.\n",
      "  realErz_15_24_dz['Pumpspeicher'] = realErz_15_24_dz['Pumpspeicher'].str.replace('.', '').str.replace(',', '.')\n",
      "/var/folders/3t/mgckmfnn5p745wd8_80ywb0c0000gn/T/ipykernel_45389/3188748355.py:16: FutureWarning: The default value of regex will change from True to False in a future version. In addition, single character regular expressions will *not* be treated as literal strings when regex=True.\n",
      "  realErz_15_24_dz['Sonstige Konventionelle'] = realErz_15_24_dz['Sonstige Konventionelle'].str.replace('.', '').str.replace(',', '.')\n"
     ]
    }
   ],
   "source": [
    "realErz_15_24 = pd.read_csv('Data/SMARD/realErz_2015_2024.csv')\n",
    "\n",
    "#drop the columns 'Anfang' and 'Ende'\n",
    "realErz_15_24_d = realErz_15_24.drop(columns=['Anfang'])\n",
    "realErz_15_24_dz = realErz_15_24_d.drop(columns=['Ende'])\n",
    "\n",
    "#converting the values from string to float\n",
    "realErz_15_24_dz['Biomasse'] = realErz_15_24['Biomasse'].str.replace('.', '').str.replace(',', '.')\n",
    "realErz_15_24_dz['Wasserkraft'] = realErz_15_24_dz['Wasserkraft'].str.replace('.', '').str.replace(',', '.')\n",
    "realErz_15_24_dz['Wind Offshore'] = realErz_15_24_dz['Wind Offshore'].str.replace('.', '').str.replace(',', '.')\n",
    "realErz_15_24_dz['Wind Onshore'] = realErz_15_24_dz['Wind Onshore'].str.replace('.', '').str.replace(',', '.')\n",
    "realErz_15_24_dz['Photovoltaik'] = realErz_15_24_dz['Photovoltaik'].str.replace('.', '').str.replace(',', '.')\n",
    "realErz_15_24_dz['Sonstige Erneuerbare'] = realErz_15_24_dz['Sonstige Erneuerbare'].str.replace('.', '').str.replace(',', '.')\n",
    "realErz_15_24_dz['Braunkohle'] = realErz_15_24_dz['Braunkohle'].str.replace('.', '').str.replace(',', '.')\n",
    "realErz_15_24_dz['Steinkohle'] = realErz_15_24_dz['Steinkohle'].str.replace('.', '').str.replace(',', '.')\n",
    "realErz_15_24_dz['Erdgas'] = realErz_15_24_dz['Erdgas'].str.replace('.', '').str.replace(',', '.')\n",
    "realErz_15_24_dz['Pumpspeicher'] = realErz_15_24_dz['Pumpspeicher'].str.replace('.', '').str.replace(',', '.')\n",
    "realErz_15_24_dz['Sonstige Konventionelle'] = realErz_15_24_dz['Sonstige Konventionelle'].str.replace('.', '').str.replace(',', '.')\n",
    "\n",
    "#save the dataframe as csv file\n",
    "#realErz_15_24_dz.to_csv('Data/SMARD/realErz_2015_2024.csv', index=False)\n",
    "\n"
   ]
  },
  {
   "cell_type": "markdown",
   "metadata": {},
   "source": [
    "**adding row Gesamt Erzeugung**"
   ]
  },
  {
   "cell_type": "code",
   "execution_count": 22,
   "metadata": {},
   "outputs": [
    {
     "name": "stdout",
     "output_type": "stream",
     "text": [
      "              Biomasse  Wasserkraft  Wind Offshore  Wind Onshore  \\\n",
      "Datum                                                              \n",
      "01.01.2015  3006253.00   1160768.75      261972.25    9081274.75   \n",
      "01.02.2015  2701292.75    866154.00      282760.00    4865703.75   \n",
      "01.03.2015  2945423.25   1026580.50      432080.75    6491865.50   \n",
      "01.04.2015  2855391.50   1242024.00      378500.25    4624380.50   \n",
      "01.05.2015  2944932.75   1528050.00      565152.75    4697643.00   \n",
      "...                ...          ...            ...           ...   \n",
      "01.11.2023  3065303.75   1284446.75     2319520.25   14428420.75   \n",
      "01.12.2023  3159116.00   1315521.50     2990697.50   16134519.00   \n",
      "01.01.2024  3169128.50   1341064.75     3036663.75   15380691.50   \n",
      "01.02.2024  3265464.50   1236684.00     2779321.50   14050640.00   \n",
      "01.03.2024  3529986.50   1261868.00     2734502.50    9245620.00   \n",
      "\n",
      "            Photovoltaik  Sonstige Erneuerbare   Braunkohle  Steinkohle  \\\n",
      "Datum                                                                     \n",
      "01.01.2015     559673.50              97758.25  11800178.50  6387684.50   \n",
      "01.02.2015    1371004.25              83894.50  11249758.00  7886900.00   \n",
      "01.03.2015    2858577.25              71699.50  12177191.25  7320070.50   \n",
      "01.04.2015    4435389.00              95564.25  10200744.50  5994326.25   \n",
      "01.05.2015    4411590.00              80552.50   8935801.50  4295094.75   \n",
      "...                  ...                   ...          ...         ...   \n",
      "01.11.2023    1402516.25             112160.25   7164197.00  3958817.25   \n",
      "01.12.2023     795349.75              99612.25   6904953.50  3933812.75   \n",
      "01.01.2024    1501247.75             106330.00   6819909.25  4036643.00   \n",
      "01.02.2024    2261684.50              82428.50   6010242.50  2585052.25   \n",
      "01.03.2024    4607340.50              62032.00   6480358.00  2096712.25   \n",
      "\n",
      "                Erdgas  Pumpspeicher  Sonstige Konventionelle  \\\n",
      "Datum                                                           \n",
      "01.01.2015  1405692.50     862461.00               5424207.00   \n",
      "01.02.2015  1615355.25     756012.75               5815809.75   \n",
      "01.03.2015  1359916.25     900734.75               5460914.50   \n",
      "01.04.2015   850204.00     823908.25               4534967.25   \n",
      "01.05.2015   866141.50     898907.25               3889602.50   \n",
      "...                ...           ...                      ...   \n",
      "01.11.2023  4943008.00     878800.50               1001883.75   \n",
      "01.12.2023  5259085.75    1003147.00               1054459.25   \n",
      "01.01.2024  6539274.25     952184.00                960552.00   \n",
      "01.02.2024  4835138.00     931198.00                937222.75   \n",
      "01.03.2024  4224918.75    1066819.50                782754.13   \n",
      "\n",
      "            Gesamt Erzeugung  \n",
      "Datum                         \n",
      "01.01.2015       40047924.00  \n",
      "01.02.2015       37494645.00  \n",
      "01.03.2015       41045054.00  \n",
      "01.04.2015       36035399.75  \n",
      "01.05.2015       33113468.50  \n",
      "...                      ...  \n",
      "01.11.2023       40559074.50  \n",
      "01.12.2023       42650274.25  \n",
      "01.01.2024       43843688.75  \n",
      "01.02.2024       38975076.50  \n",
      "01.03.2024       36092912.13  \n",
      "\n",
      "[111 rows x 12 columns]\n"
     ]
    }
   ],
   "source": [
    "realErz_15_24 = pd.read_csv('Data/SMARD/realErz_2015_2024.csv')\n",
    "\n",
    "# Set 'day' as the index\n",
    "realErz_15_24.set_index('Datum', inplace=True)\n",
    "\n",
    "# Add a new column 'total input' that sums up the inputs for each day\n",
    "realErz_15_24['Gesamt Erzeugung'] = realErz_15_24.sum(axis=1)\n",
    "\n",
    "#realErz_15_24.to_csv('Data/SMARD/Erzeugung.csv', index=True)\n",
    "print(realErz_15_24)\n"
   ]
  },
  {
   "cell_type": "markdown",
   "metadata": {},
   "source": [
    "**Combining Prognostiziert mit Realisierter Verbrauch und Realisierter Erzeugung**"
   ]
  },
  {
   "cell_type": "code",
   "execution_count": 24,
   "metadata": {},
   "outputs": [
    {
     "name": "stdout",
     "output_type": "stream",
     "text": [
      "          Datum    Biomasse  Wasserkraft  Wind Offshore  Wind Onshore  \\\n",
      "0    01.01.2015  3006253.00   1160768.75      261972.25    9081274.75   \n",
      "1    01.02.2015  2701292.75    866154.00      282760.00    4865703.75   \n",
      "2    01.03.2015  2945423.25   1026580.50      432080.75    6491865.50   \n",
      "3    01.04.2015  2855391.50   1242024.00      378500.25    4624380.50   \n",
      "4    01.05.2015  2944932.75   1528050.00      565152.75    4697643.00   \n",
      "..          ...         ...          ...            ...           ...   \n",
      "106  01.11.2023  3065303.75   1284446.75     2319520.25   14428420.75   \n",
      "107  01.12.2023  3159116.00   1315521.50     2990697.50   16134519.00   \n",
      "108  01.01.2024  3169128.50   1341064.75     3036663.75   15380691.50   \n",
      "109  01.02.2024  3265464.50   1236684.00     2779321.50   14050640.00   \n",
      "110  01.03.2024  3529986.50   1261868.00     2734502.50    9245620.00   \n",
      "\n",
      "     Photovoltaik  Sonstige Erneuerbare   Braunkohle  Steinkohle      Erdgas  \\\n",
      "0       559673.50              97758.25  11800178.50  6387684.50  1405692.50   \n",
      "1      1371004.25              83894.50  11249758.00  7886900.00  1615355.25   \n",
      "2      2858577.25              71699.50  12177191.25  7320070.50  1359916.25   \n",
      "3      4435389.00              95564.25  10200744.50  5994326.25   850204.00   \n",
      "4      4411590.00              80552.50   8935801.50  4295094.75   866141.50   \n",
      "..            ...                   ...          ...         ...         ...   \n",
      "106    1402516.25             112160.25   7164197.00  3958817.25  4943008.00   \n",
      "107     795349.75              99612.25   6904953.50  3933812.75  5259085.75   \n",
      "108    1501247.75             106330.00   6819909.25  4036643.00  6539274.25   \n",
      "109    2261684.50              82428.50   6010242.50  2585052.25  4835138.00   \n",
      "110    4607340.50              62032.00   6480358.00  2096712.25  4224918.75   \n",
      "\n",
      "     Pumpspeicher  Sonstige Konventionelle  Gesamt Erzeugung  \\\n",
      "0       862461.00               5424207.00       40047924.00   \n",
      "1       756012.75               5815809.75       37494645.00   \n",
      "2       900734.75               5460914.50       41045054.00   \n",
      "3       823908.25               4534967.25       36035399.75   \n",
      "4       898907.25               3889602.50       33113468.50   \n",
      "..            ...                      ...               ...   \n",
      "106     878800.50               1001883.75       40559074.50   \n",
      "107    1003147.00               1054459.25       42650274.25   \n",
      "108     952184.00                960552.00       43843688.75   \n",
      "109     931198.00                937222.75       38975076.50   \n",
      "110    1066819.50                782754.13       36092912.13   \n",
      "\n",
      "     Prognostizierter Stromverbrauch  Realisierter Stromverbrauch  \n",
      "0                        41575670.50                  45142690.25  \n",
      "1                        38835534.75                  42095506.50  \n",
      "2                        42257557.75                  44331785.00  \n",
      "3                        38528335.00                  40041540.00  \n",
      "4                        37798975.75                  39296911.00  \n",
      "..                               ...                          ...  \n",
      "106                      39378702.25                  41065477.00  \n",
      "107                      40324501.00                  40961607.00  \n",
      "108                      42395112.50                  43420787.75  \n",
      "109                      39436847.25                  39532215.50  \n",
      "110                      39837070.25                  38575908.25  \n",
      "\n",
      "[111 rows x 15 columns]\n"
     ]
    }
   ],
   "source": [
    "realErz_15_24 = pd.read_csv('Data/SMARD/Erzeugung.csv')\n",
    "progVSreal_Str_15_24 = pd.read_csv('Data/SMARD/progVSreal_Str_2015_2024.csv')\n",
    "\n",
    "\n",
    "neuer_df = realErz_15_24.merge(progVSreal_Str_15_24[['Datum','Prognostizierter Stromverbrauch','Realisierter Stromverbrauch']], on='Datum', how='left')\n",
    "\n",
    "#neuer_df = neuer_df.rename(columns={\"Gesamt (Netzlast) [MWh] Berechnete Auflösungen_x\": \"Realisierte Erzeugung\"})\n",
    "\n",
    "#neuer_df.to_csv('Data/SMARD/combined_2015_2024.csv', index=False)\n",
    "\n",
    "print(neuer_df)"
   ]
  },
  {
   "cell_type": "code",
   "execution_count": 10,
   "metadata": {},
   "outputs": [
    {
     "name": "stdout",
     "output_type": "stream",
     "text": [
      "          Datum      Biomasse   Wasserkraft Wind Offshore  Wind Onshore  \\\n",
      "0    01.01.2015     3.006.253  1.160.768,75    261.972,25  9.081.274,75   \n",
      "1    01.02.2015  2.701.292,75       866.154       282.760  4.865.703,75   \n",
      "2    01.03.2015  2.945.423,25   1.026.580,5    432.080,75   6.491.865,5   \n",
      "3    01.04.2015   2.855.391,5     1.242.024    378.500,25   4.624.380,5   \n",
      "4    01.05.2015  2.944.932,75     1.528.050    565.152,75     4.697.643   \n",
      "..          ...           ...           ...           ...           ...   \n",
      "107  01.12.2023     3.159.116   1.315.521,5   2.990.697,5    16.134.519   \n",
      "108  01.01.2024   3.169.128,5  1.341.064,75  3.036.663,75  15.380.691,5   \n",
      "109  01.02.2024   3.265.464,5     1.236.684   2.779.321,5    14.050.640   \n",
      "110  01.03.2024   3.529.986,5     1.261.868   2.734.502,5     9.245.620   \n",
      "111  01.04.2024             -             -             -             -   \n",
      "\n",
      "     Photovoltaik Sonstige Erneuerbare     Braunkohle    Steinkohle  \\\n",
      "0       559.673,5            97.758,25   11.800.178,5   6.387.684,5   \n",
      "1    1.371.004,25             83.894,5     11.249.758     7.886.900   \n",
      "2    2.858.577,25             71.699,5  12.177.191,25   7.320.070,5   \n",
      "3       4.435.389            95.564,25   10.200.744,5  5.994.326,25   \n",
      "4       4.411.590             80.552,5    8.935.801,5  4.295.094,75   \n",
      "..            ...                  ...            ...           ...   \n",
      "107    795.349,75            99.612,25    6.904.953,5  3.933.812,75   \n",
      "108  1.501.247,75              106.330   6.819.909,25     4.036.643   \n",
      "109   2.261.684,5             82.428,5    6.010.242,5  2.585.052,25   \n",
      "110   4.607.340,5               62.032      6.480.358  2.096.712,25   \n",
      "111             -                    -              -             -   \n",
      "\n",
      "           Erdgas Pumpspeicher Sonstige Konventionelle  \\\n",
      "0     1.405.692,5      862.461               5.424.207   \n",
      "1    1.615.355,25   756.012,75            5.815.809,75   \n",
      "2    1.359.916,25   900.734,75             5.460.914,5   \n",
      "3         850.204   823.908,25            4.534.967,25   \n",
      "4       866.141,5   898.907,25             3.889.602,5   \n",
      "..            ...          ...                     ...   \n",
      "107  5.259.085,75    1.003.147            1.054.459,25   \n",
      "108  6.539.274,25      952.184                 960.552   \n",
      "109     4.835.138      931.198              937.222,75   \n",
      "110  4.224.918,75  1.066.819,5              782.754,13   \n",
      "111             -            -                       -   \n",
      "\n",
      "     Prognostizierter Stromverbrauch  Realisierter Stromverbrauch  \n",
      "0                        41575670.50                  45142690.25  \n",
      "1                        38835534.75                  42095506.50  \n",
      "2                        42257557.75                  44331785.00  \n",
      "3                        38528335.00                  40041540.00  \n",
      "4                        37798975.75                  39296911.00  \n",
      "..                               ...                          ...  \n",
      "107                      40324501.00                  40961607.00  \n",
      "108                      42395112.50                  43420787.75  \n",
      "109                      39436847.25                  39532215.50  \n",
      "110                      39837070.25                  38575908.25  \n",
      "111                              NaN                          NaN  \n",
      "\n",
      "[112 rows x 14 columns]\n"
     ]
    }
   ],
   "source": [
    "# Assuming that 'combined_2015_2024.csv' is already loaded into a DataFrame named 'neuer_df'\n",
    "# We will sum all the columns you mentioned and add the result to a new row\n",
    "\n",
    "# List of columns to sum\n",
    "columns_to_sum = ['Biomasse', 'Wasserkraft', 'Wind Offshore', 'Wind Onshore', 'Photovoltaik', \n",
    "                  'Sonstige Erneuerbare', 'Braunkohle', 'Steinkohle', 'Erdgas', 'Pumpspeicher', \n",
    "                  'Sonstige Konventionelle']\n",
    "\n",
    "# Sum the columns\n",
    "sum_values = neuer_df[columns_to_sum].sum()\n",
    "\n",
    "# Add the sum to a new row in the DataFrame\n",
    "#neuer_df.loc['Ges_realisierte Erzeugung'] = sum_values\n",
    "\n",
    "print(neuer_df)"
   ]
  },
  {
   "cell_type": "markdown",
   "metadata": {},
   "source": [
    "# ENTSOE"
   ]
  },
  {
   "cell_type": "markdown",
   "metadata": {},
   "source": [
    "**Preparing Inventory of Generation**"
   ]
  },
  {
   "cell_type": "code",
   "execution_count": 11,
   "metadata": {},
   "outputs": [
    {
     "name": "stdout",
     "output_type": "stream",
     "text": [
      "                 MeasureItem  MeasureItemCategoryID  MeasureItemID  \\\n",
      "0    Inventory of Generation                      9            157   \n",
      "1    Inventory of Generation                      9            157   \n",
      "2    Inventory of Generation                      9            157   \n",
      "3    Inventory of Generation                      9            157   \n",
      "4    Inventory of Generation                      9            157   \n",
      "..                       ...                    ...            ...   \n",
      "174  Inventory of Generation                      9            378   \n",
      "175  Inventory of Generation                      9            376   \n",
      "176  Inventory of Generation                      9            381   \n",
      "177  Inventory of Generation                      9            378   \n",
      "178  Inventory of Generation                      9            381   \n",
      "\n",
      "            Category Country  Year ProvidedValue         CreationDate  \\\n",
      "0            Nuclear      CY  2014           NaN              56:44,2   \n",
      "1            Nuclear      AT  2015           NaN              32:39,3   \n",
      "2            Nuclear      BA  2015           NaN              22:17,3   \n",
      "3            Nuclear      BE  2015          5926              05:46,7   \n",
      "4            Nuclear      BG  2015          2000              43:04,9   \n",
      "..               ...     ...   ...           ...                  ...   \n",
      "174    FF_over_400MW      DK  2022         640.0  26-06-2023 00:00:00   \n",
      "175    FF_10MW_200MW      IT  2022        6463.0  26-06-2023 00:00:00   \n",
      "176  Hydro_10MW_50MW      XK  2022          68.2  26-06-2023 00:00:00   \n",
      "177    FF_over_400MW      FR  2022        8658.0  26-06-2023 00:00:00   \n",
      "178  Hydro_10MW_50MW      IE  2022         195.0  26-06-2023 00:00:00   \n",
      "\n",
      "    ProvidedValueCode  NumberOfUnits  \n",
      "0        Not Expected            NaN  \n",
      "1        Not Expected            NaN  \n",
      "2        Not Expected            NaN  \n",
      "3                 NaN            8.0  \n",
      "4                 NaN            2.0  \n",
      "..                ...            ...  \n",
      "174               NaN            1.0  \n",
      "175               NaN          117.0  \n",
      "176               NaN            3.0  \n",
      "177               NaN           18.0  \n",
      "178               NaN           11.0  \n",
      "\n",
      "[3881 rows x 10 columns]\n"
     ]
    }
   ],
   "source": [
    "IoG_15_18 = pd.read_csv('Data/entsoe/IoG/IoG_data-2015-2018.csv', sep=';')\n",
    "IoG_21 = pd.read_csv('Data/entsoe/IoG/inventory_of_generation_2021.csv', sep='\\t')\n",
    "IoG_22 = pd.read_csv('Data/entsoe/IoG/inventory_of_generation_2022.csv', sep='\\t')\n",
    "\n",
    "IoG_21_d = IoG_21.drop(columns=['UpdateDate'])\n",
    "IoG_22_d = IoG_22.drop(columns=['UpdateDate'])\n",
    "# Reordering the columns of IoG_21 DataFrame to move 'CreationDate' two places to the left\n",
    "IoG_21_dr = IoG_21_d[['MeasureItem', 'MeasureItemCategoryID', 'MeasureItemID', 'Category', 'Country', 'Year', 'ProvidedValue', 'CreationDate', 'ProvidedValueCode', 'NumberOfUnits']]\n",
    "IoG_22_dr = IoG_22_d[['MeasureItem', 'MeasureItemCategoryID', 'MeasureItemID', 'Category', 'Country', 'Year', 'ProvidedValue', 'CreationDate', 'ProvidedValueCode', 'NumberOfUnits']]\n",
    "# Write the combined dataframe as CSV file\n",
    "#IoG_21_dr.to_csv('Data/entsoe/IoG/IoG_21_dr.csv', index=False)\n",
    "#IoG_22_dr.to_csv('Data/entsoe/IoG/IoG_22_dr.csv', index=False)\n",
    "\n",
    "# Combine all the dataframes to create a new dataframe combining the data from 2015 to 2022\n",
    "IoG_15_22 = pd.concat([IoG_15_18, IoG_21_dr, IoG_22_dr])\n",
    "#IoG_15_22.to_csv('Data/entsoe/IoG/IoG_15_22.csv', index=False)\n",
    "\n",
    "\n",
    "#in IoG_15_18 for Value: *Inventory of Generation;9;423;Comments;PL;2015;;32:22,5;;NULL* deleted the Comment below:\n",
    "#Fossil fuel - detailed data refers to units centrally dispatched. Rest units are classfied in category below 10 MW.  Solar, onshore, biogas, biomass - no detailed data about the amount of installations and NCG in each range. Only total NGC provided.\n",
    "\n",
    "print(IoG_15_22)"
   ]
  },
  {
   "cell_type": "markdown",
   "metadata": {},
   "source": [
    "**Preparing Inventory of Transmission**"
   ]
  },
  {
   "cell_type": "code",
   "execution_count": 12,
   "metadata": {},
   "outputs": [
    {
     "name": "stdout",
     "output_type": "stream",
     "text": [
      "                   MeasureItem  MeasureItemCategoryID  MeasureItemID  \\\n",
      "0    Inventory of Transmission                      5            406   \n",
      "1    Inventory of Transmission                      5            406   \n",
      "2    Inventory of Transmission                      5            406   \n",
      "3    Inventory of Transmission                      5            406   \n",
      "4    Inventory of Transmission                      5            406   \n",
      "..                         ...                    ...            ...   \n",
      "940  Inventory of Transmission                      5            422   \n",
      "941  Inventory of Transmission                      5            424   \n",
      "942  Inventory of Transmission                      5            425   \n",
      "943  Inventory of Transmission                      5            426   \n",
      "944  Inventory of Transmission                      5            427   \n",
      "\n",
      "            Category Country  Year LengthOfCircuits LengthOfRoutes  \\\n",
      "0    ACC_220kV_380kV      CY  2014              NaN            NaN   \n",
      "1    ACC_220kV_380kV      IS  2014                0              0   \n",
      "2    ACC_220kV_380kV      AT  2015                8              7   \n",
      "3    ACC_220kV_380kV      BA  2015              NaN            NaN   \n",
      "4    ACC_220kV_380kV      BE  2015                5              3   \n",
      "..               ...     ...   ...              ...            ...   \n",
      "940   DCC_110kV_220V      TR  2018              NaN            NaN   \n",
      "941       Comments_1      TR  2018              NaN            NaN   \n",
      "942       Comments_2      TR  2018              NaN            NaN   \n",
      "943       Comments_3      TR  2018              NaN            NaN   \n",
      "944       Comments_4      TR  2018              NaN            NaN   \n",
      "\n",
      "     NumberOfUnits ProvidedValue CreationDate ProvidedValueCode  Unnamed: 12  \\\n",
      "0              NaN           NaN      01:18,5      Not Expected          NaN   \n",
      "1              NaN           NaN      31:34,3               NaN          NaN   \n",
      "2              NaN           NaN      35:32,8               NaN          NaN   \n",
      "3              NaN           NaN      29:28,8      Not Expected          NaN   \n",
      "4              NaN           NaN      48:06,8               NaN          NaN   \n",
      "..             ...           ...          ...               ...          ...   \n",
      "940            NaN           NaN   12/06/2019      Not Expected          NaN   \n",
      "941            NaN           NaN   12/06/2019               NaN          NaN   \n",
      "942            NaN           NaN   12/06/2019               NaN          NaN   \n",
      "943            NaN           NaN   12/06/2019               NaN          NaN   \n",
      "944            NaN           NaN   12/06/2019               NaN          NaN   \n",
      "\n",
      "     Unnamed: 13  \n",
      "0            NaN  \n",
      "1            NaN  \n",
      "2            NaN  \n",
      "3            NaN  \n",
      "4            NaN  \n",
      "..           ...  \n",
      "940          NaN  \n",
      "941          NaN  \n",
      "942          NaN  \n",
      "943          NaN  \n",
      "944          NaN  \n",
      "\n",
      "[5642 rows x 14 columns]\n"
     ]
    }
   ],
   "source": [
    "#IoT_75_15 = pd.read_csv('Data/entsoe/IoT/Inventory-of-transmission_1975-2015.csv', sep=';')\n",
    "IoT_15_18 = pd.read_csv('Data/entsoe/IoT/IoT_data-2015-2018.csv', sep=';')\n",
    "IoT_21 = pd.read_csv('Data/entsoe/IoT/inventory_of_transmission_2021.csv', sep=';')\n",
    "IoT_22 = pd.read_csv('Data/entsoe/IoT/inventory_of_transmission_2022.csv', sep=';')\n",
    "\n",
    "# Combine all the dataframes to create a new dataframe combining the data from 2015 to 2022\n",
    "IoT_15_22 = pd.concat([IoT_15_18, IoT_21, IoT_22])\n",
    "#IoT_15_22.to_csv('Data/entsoe/IoT/IoT_15_22.csv', index=False)\n",
    "\n",
    "#in IoG_15_18 for Value: *Inventory of Generation;9;423;Comments;PL;2015;;32:22,5;;NULL* deleted the Comment below:\n",
    "#Fossil fuel - detailed data refers to units centrally dispatched. Rest units are classfied in category below 10 MW.  Solar, onshore, biogas, biomass - no detailed data about the amount of installations and NCG in each range. Only total NGC provided.\n",
    "\n",
    "print(IoT_15_22)\n",
    "\n"
   ]
  },
  {
   "cell_type": "markdown",
   "metadata": {},
   "source": [
    "**Preparing Monthly Domestic Values**"
   ]
  },
  {
   "cell_type": "code",
   "execution_count": 13,
   "metadata": {},
   "outputs": [
    {
     "name": "stderr",
     "output_type": "stream",
     "text": [
      "/var/folders/3t/mgckmfnn5p745wd8_80ywb0c0000gn/T/ipykernel_45389/3205972955.py:5: DtypeWarning: Columns (0,3,4,5,7,8,9) have mixed types. Specify dtype option on import or set low_memory=False.\n",
      "  MDV_15_19 = pd.read_csv('Data/entsoe/MDV/MDV_data-2015-2019.csv', sep=';')\n"
     ]
    },
    {
     "name": "stdout",
     "output_type": "stream",
     "text": [
      "    Country  month  year status  prod_hy  prod_tn  prod_fossil_fuels  \\\n",
      "0        AL      1  2004      D      NaN      NaN                NaN   \n",
      "1        AL      2  2004      D      NaN      NaN                NaN   \n",
      "2        AL      3  2004      D      NaN      NaN                NaN   \n",
      "3        AL      4  2004      D      NaN      NaN                NaN   \n",
      "4        AL      5  2004      D      NaN      NaN                NaN   \n",
      "..      ...    ...   ...    ...      ...      ...                ...   \n",
      "893      LU      4  2016      P      NaN      NaN               24.0   \n",
      "894      LU      5  2016      P      NaN      NaN               19.0   \n",
      "895      LV      4  2016      P      NaN      NaN              141.0   \n",
      "896      CH      4  2016      P      NaN      NaN              182.0   \n",
      "897      HU      5  2016      P      NaN      NaN              672.0   \n",
      "\n",
      "     losses_trans  losses_trans_repr  _Sum   pump  exg_saldo  cons_total  \n",
      "0             NaN                NaN   0.0    NaN        NaN         0.0  \n",
      "1             NaN                NaN   0.0    NaN        NaN         0.0  \n",
      "2             NaN                NaN   0.0    NaN        NaN         0.0  \n",
      "3             NaN                NaN   0.0    NaN        NaN         0.0  \n",
      "4             NaN                NaN   0.0    NaN        NaN         0.0  \n",
      "..            ...                ...   ...    ...        ...         ...  \n",
      "893           2.0              100.0   NaN  177.0      524.0         NaN  \n",
      "894           2.0              100.0   NaN  204.0      528.0         NaN  \n",
      "895          20.0              100.0   NaN    0.0      -15.0         NaN  \n",
      "896          73.0              100.0   NaN  195.0     -212.0         NaN  \n",
      "897          28.0              100.0   NaN    0.0     1058.0         NaN  \n",
      "\n",
      "[8273 rows x 13 columns]\n"
     ]
    }
   ],
   "source": [
    "MDV_before05 = pd.read_csv('Data/entsoe/MDV/Monthly-Domestic-Values_before2005.csv', sep=';')\n",
    "MDV_05_09 = pd.read_csv('Data/entsoe/MDV/Monthly-Domestic-Values_2005-2009.csv', sep=';')\n",
    "MDV_10_13 = pd.read_csv('Data/entsoe/MDV/Monthly-Domestic-Values_2010-2013.csv', sep=';')\n",
    "MDV_14_15 = pd.read_csv('Data/entsoe/MDV/Monthly-Domestic-Values_2014-2015.csv', sep=';')\n",
    "MDV_15_19 = pd.read_csv('Data/entsoe/MDV/MDV_data-2015-2019.csv', sep=';')\n",
    "MDV_21 = pd.read_csv('Data/entsoe/MDV/monthly_domestic_values_2021.csv', sep=';')\n",
    "MDV_22 = pd.read_csv('Data/entsoe/MDV/monthly_domestic_values_2022.csv', sep='\\t')\n",
    "MDV_23 = pd.read_csv('Data/entsoe/MDV/monthly_domestic_values_2023.csv')\n",
    "\n",
    "# Reordering the columns of varius DataFrames to make the following combination of the yearly data easier, to a achieve a cleaner structure\n",
    "MDV_before05_r = MDV_before05[['Country','month','year','status','prod_hy','prod_tn','prod_fossil_fuels','losses_trans','losses_trans_repr','_Sum','pump','exg_saldo','cons_total']]\n",
    "MDV_05_09_r = MDV_05_09[['Country','month','year','status','prod_hy','prod_tn','prod_fossil_fuels','losses_trans','losses_trans_repr','_Sum','pump','exg_saldo','cons_total']]\n",
    "MDV_10_13_r = MDV_10_13[['Country','month','year','status','prod_hy','prod_tn','prod_fossil_fuels','losses_trans','losses_trans_repr','_Sum','pump','exg_saldo','cons_total']]\n",
    "MDV_14_15_r = MDV_14_15[['Country','month','year','status','prod_fossil_fuels','losses_trans','losses_trans_repr','pump','exg_saldo']]\n",
    "MDV_15_19_r = MDV_15_19[['MeasureItem','Month','Year','Category','Country','MeasureItemID','CreationDate','Representativity','ProvidedValue','ProvidedValueCode']]\n",
    "\n",
    "\n",
    "# Combine all the dataframes to create a new dataframe combining the data from 2015 to 2022\n",
    "MDV_before05_13 = pd.concat([MDV_before05_r, MDV_05_09_r, MDV_10_13_r])\n",
    "MDV_before05_15 = pd.concat([MDV_before05_13, MDV_14_15_r])\n",
    "#MDV_before05_15.to_csv('Data/entsoe/MDV/MDV_before05_15.csv', index=False)\n",
    "mdv_15_23 = pd.concat([MDV_15_19_r, MDV_21, MDV_22, MDV_23])\n",
    "#mdv_15_23.to_csv('Data/entsoe/MDV/mdv_15_23.csv', index=False)\n",
    "\n",
    "\n",
    "print(MDV_before05_15)\n",
    "\n"
   ]
  },
  {
   "cell_type": "markdown",
   "metadata": {},
   "source": [
    "**Preparing Monthly Hourly Load Values**"
   ]
  },
  {
   "cell_type": "code",
   "execution_count": 14,
   "metadata": {},
   "outputs": [
    {
     "name": "stderr",
     "output_type": "stream",
     "text": [
      "/var/folders/3t/mgckmfnn5p745wd8_80ywb0c0000gn/T/ipykernel_45389/1824909210.py:1: DtypeWarning: Columns (5,6,7,8,9,10,11,12,13,14,15,16,17,18,19,20,21,22,23,24,25,26,27,28) have mixed types. Specify dtype option on import or set low_memory=False.\n",
      "  MHLV_06_15 = pd.read_csv('Data/entsoe/MHLV/Monthly-hourly-load-values_2006-2015.csv', sep=';')\n"
     ]
    },
    {
     "name": "stdout",
     "output_type": "stream",
     "text": [
      "                       MeasureItem  DateUTC DateShort TimeFrom TimeTo  \\\n",
      "0       Monthly Hourly Load Values  00:00,0  31.12.14    23:00  00:00   \n",
      "1       Monthly Hourly Load Values  00:00,0  01.01.15    00:00  01:00   \n",
      "2       Monthly Hourly Load Values  00:00,0  01.01.15    01:00  02:00   \n",
      "3       Monthly Hourly Load Values  00:00,0  01.01.15    02:00  03:00   \n",
      "4       Monthly Hourly Load Values  00:00,0  01.01.15    03:00  04:00   \n",
      "...                            ...      ...       ...      ...    ...   \n",
      "302891                         NaN      NaN       NaN      NaN    NaN   \n",
      "302892                         NaN      NaN       NaN      NaN    NaN   \n",
      "302893                         NaN      NaN       NaN      NaN    NaN   \n",
      "302894                         NaN      NaN       NaN      NaN    NaN   \n",
      "302895                         NaN      NaN       NaN      NaN    NaN   \n",
      "\n",
      "       CountryCode  Cov_ratio     Value Value_ScaleTo100 UpdateDate  \\\n",
      "0               DE       98.0  46419,79      47367,13265        NaN   \n",
      "1               DE       98.0   44898,3      45814,59184        NaN   \n",
      "2               DE       98.0  43305,31      44189,09184        NaN   \n",
      "3               DE       98.0  41918,17      42773,64286        NaN   \n",
      "4               DE       98.0  41330,17      42173,64286        NaN   \n",
      "...            ...        ...       ...              ...        ...   \n",
      "302891         NaN        NaN       NaN              NaN        NaN   \n",
      "302892         NaN        NaN       NaN              NaN        NaN   \n",
      "302893         NaN        NaN       NaN              NaN        NaN   \n",
      "302894         NaN        NaN       NaN              NaN        NaN   \n",
      "302895         NaN        NaN       NaN              NaN        NaN   \n",
      "\n",
      "       CreateDate  \\\n",
      "0             NaN   \n",
      "1             NaN   \n",
      "2             NaN   \n",
      "3             NaN   \n",
      "4             NaN   \n",
      "...           ...   \n",
      "302891        NaN   \n",
      "302892        NaN   \n",
      "302893        NaN   \n",
      "302894        NaN   \n",
      "302895        NaN   \n",
      "\n",
      "       MeasureItem,DateUTC,DateShort,TimeFrom,TimeTo,CountryCode,Cov_ratio,Value,Value_ScaleTo100,UpdateDate  \n",
      "0                                                     NaN                                                     \n",
      "1                                                     NaN                                                     \n",
      "2                                                     NaN                                                     \n",
      "3                                                     NaN                                                     \n",
      "4                                                     NaN                                                     \n",
      "...                                                   ...                                                     \n",
      "302891  Monthly Hourly Load Values,31/12/2023 19:00,31...                                                     \n",
      "302892  Monthly Hourly Load Values,31/12/2023 20:00,31...                                                     \n",
      "302893  Monthly Hourly Load Values,31/12/2023 21:00,31...                                                     \n",
      "302894  Monthly Hourly Load Values,31/12/2023 22:00,31...                                                     \n",
      "302895  Monthly Hourly Load Values,31/12/2023 23:00,31...                                                     \n",
      "\n",
      "[2018677 rows x 12 columns]\n"
     ]
    }
   ],
   "source": [
    "MHLV_06_15 = pd.read_csv('Data/entsoe/MHLV/Monthly-hourly-load-values_2006-2015.csv', sep=';')\n",
    "MHLV_15_19 = pd.read_csv('Data/entsoe/MHLV/MHLV_data-2015-2019.csv', sep=';')\n",
    "MHLV_18_19 = pd.read_csv('Data/entsoe/MHLV/MHLV_data-2018-2019.csv', sep=';')\n",
    "MHLV_21 = pd.read_csv('Data/entsoe/MHLV/monthly_hourly_load_values_2021.csv', sep=';')\n",
    "MHLV_22 = pd.read_csv('Data/entsoe/MHLV/monthly_hourly_load_values_2022.csv', sep=';')\n",
    "MHLV_23 = pd.read_csv('Data/entsoe/MHLV/monthly_hourly_load_values_2023.csv', sep=';')\n",
    "\n",
    "# Reordering the columns of varius DataFrames to make the following combination of the yearly data easier, to a achieve a cleaner structure\n",
    "#MDV_before05_r = MDV_before05[['Country','month','year','status','prod_hy','prod_tn','prod_fossil_fuels','losses_trans','losses_trans_repr','_Sum','pump','exg_saldo','cons_total']]\n",
    "\n",
    "\n",
    "\n",
    "\n",
    "# Combine all the dataframes to create a new dataframe combining the data from 2015 to 2022\n",
    "MHLV_15_23 = pd.concat([MHLV_15_19, MHLV_18_19, MHLV_21, MHLV_22, MHLV_23])\n",
    "#MHLV_15_23.to_csv('Data/entsoe/MHLV/MHLV_15_23.csv', index=False)\n",
    "\n",
    "\n",
    "print(MHLV_15_23)"
   ]
  },
  {
   "cell_type": "markdown",
   "metadata": {},
   "source": [
    "**Preparing Net Generation Capacity**"
   ]
  },
  {
   "cell_type": "code",
   "execution_count": 28,
   "metadata": {},
   "outputs": [
    {
     "name": "stdout",
     "output_type": "stream",
     "text": [
      "                 MeasureItem  MeasureItemCategoryID MeasureItemID  \\\n",
      "0    Net Generating Capacity                      6           B01   \n",
      "1    Net Generating Capacity                      6           B02   \n",
      "2    Net Generating Capacity                      6           B03   \n",
      "3    Net Generating Capacity                      6           B04   \n",
      "4    Net Generating Capacity                      6           B05   \n",
      "..                       ...                    ...           ...   \n",
      "401  Net Generating Capacity                      6           B19   \n",
      "402  Net Generating Capacity                      6           B02   \n",
      "403  Net Generating Capacity                      6           B11   \n",
      "404  Net Generating Capacity                      6           B12   \n",
      "405  Net Generating Capacity                      6           B19   \n",
      "\n",
      "                            Category Country  Year  Representativity  \\\n",
      "0                            Biomass      AL  2022               100   \n",
      "1          Fossil Brown coal/Lignite      AL  2022               100   \n",
      "2            Fossil Coal-derived gas      AL  2022               100   \n",
      "3                         Fossil Gas      AL  2022               100   \n",
      "4                   Fossil Hard coal      AL  2022               100   \n",
      "..                               ...     ...   ...               ...   \n",
      "401                     Wind Onshore      UA  2022               100   \n",
      "402        Fossil Brown coal/Lignite      XK  2022               100   \n",
      "403  Hydro Run-of-river and poundage      XK  2022               100   \n",
      "404            Hydro Water Reservoir      XK  2022               100   \n",
      "405                     Wind Onshore      XK  2022               100   \n",
      "\n",
      "     ProvidedValue         CreationDate  ProvidedValueCode  \n",
      "0             0.00  27-06-2023 00:00:00                NaN  \n",
      "1             0.00  27-06-2023 00:00:00                NaN  \n",
      "2             0.00  27-06-2023 00:00:00                NaN  \n",
      "3             0.00  27-06-2023 00:00:00                NaN  \n",
      "4             0.00  27-06-2023 00:00:00                NaN  \n",
      "..             ...                  ...                ...  \n",
      "401        1111.15  27-06-2023 00:00:00                NaN  \n",
      "402        1288.00  27-06-2023 00:00:00                NaN  \n",
      "403          33.00  27-06-2023 00:00:00                NaN  \n",
      "404          35.00  27-06-2023 00:00:00                NaN  \n",
      "405         136.00  27-06-2023 00:00:00                NaN  \n",
      "\n",
      "[406 rows x 10 columns]\n"
     ]
    }
   ],
   "source": [
    "NGC_10_15 = pd.read_csv('Data/entsoe/NGC/NGC_2010-2015.csv', sep=';')\n",
    "NGC_15_18 = pd.read_csv('Data/entsoe/NGC/NGC_data-2015-2018.csv', sep=';')\n",
    "NGC_21 = pd.read_csv('Data/entsoe/NGC/net_generation_capacity_2021.csv', sep=';')\n",
    "NGC_22 = pd.read_csv('Data/entsoe/NGC/net_generation_capacity_2022.csv', sep='\\t')\n",
    "\n",
    "# Combine all the dataframes to create a new dataframe combining the data from 2015 to 2022\n",
    "NGC_15_22 = pd.concat([NGC_15_18, NGC_21, NGC_22])\n",
    "#NGC_15_22.to_csv('Data/entsoe/NGC/NGC_15_22.csv', index=False)\n",
    "\n",
    "\n",
    "print(NGC_22)\n",
    "\n"
   ]
  },
  {
   "cell_type": "markdown",
   "metadata": {},
   "source": [
    "**filtering for germany 2022 in net generation capacity**"
   ]
  },
  {
   "cell_type": "code",
   "execution_count": 31,
   "metadata": {},
   "outputs": [],
   "source": [
    "import pandas as pd\n",
    "\n",
    "# Load the data\n",
    "data = pd.read_csv('Data/entsoe/NGC/NGC_15_22.csv')\n",
    "\n",
    "# Convert the 'Year' column to integer type to remove the decimal point\n",
    "data['Year'] = data['Year'].astype(int)\n",
    "\n",
    "# Filter the data for 'DE' in the 'Country' column and for years 2022 and 2015\n",
    "data_DE = data[data['Country'] == 'DE']\n",
    "data_de = data_DE[data_DE['Year'].isin([2022, 2015])]\n",
    "\n",
    "data_de\n",
    "data_de.to_csv('Data/entsoe/de_NGC_15_24.csv', index=False)"
   ]
  },
  {
   "cell_type": "markdown",
   "metadata": {},
   "source": [
    "**Preparing Physical Energy Power Flows**"
   ]
  },
  {
   "cell_type": "code",
   "execution_count": 16,
   "metadata": {},
   "outputs": [
    {
     "name": "stdout",
     "output_type": "stream",
     "text": [
      "                        MeasureItem  Year  Month  Value  ProvidedValue  \\\n",
      "0     Physical Energy & Power Flows  2016      1    404            404   \n",
      "1     Physical Energy & Power Flows  2016      1     28             28   \n",
      "2     Physical Energy & Power Flows  2016      1    224            224   \n",
      "3     Physical Energy & Power Flows  2016      1    492            492   \n",
      "4     Physical Energy & Power Flows  2016      1    316            316   \n",
      "...                             ...   ...    ...    ...            ...   \n",
      "8564  Physical Energy & Power Flows  2023      8    331            331   \n",
      "8565  Physical Energy & Power Flows  2023      9    354            354   \n",
      "8566  Physical Energy & Power Flows  2023     10    305            305   \n",
      "8567  Physical Energy & Power Flows  2023     11    121            121   \n",
      "8568  Physical Energy & Power Flows  2023     12    149            149   \n",
      "\n",
      "     AVG_Value FromAreaCode ToAreaCode              MeasureTime Direction  \\\n",
      "0          404           AT         SI            Monthly Value    Export   \n",
      "1           28           BA         RS            Monthly Value    Export   \n",
      "2          224           BG         MK            Monthly Value    Export   \n",
      "3        490,5           BG         TR            Monthly Value    Export   \n",
      "4          316           CZ         DE            Monthly Value    Export   \n",
      "...        ...          ...        ...                      ...       ...   \n",
      "8564       331           XK         RS  Value on 3rd Wed. at 11    Import   \n",
      "8565       354           XK         RS  Value on 3rd Wed. at 11    Import   \n",
      "8566       305           XK         RS  Value on 3rd Wed. at 11    Import   \n",
      "8567       121           XK         RS  Value on 3rd Wed. at 11    Export   \n",
      "8568       149           XK         RS  Value on 3rd Wed. at 11    Import   \n",
      "\n",
      "            Flag FromAreaMemberType ToAreaMemberType  \n",
      "0     Harmonized                  M                M  \n",
      "1     Harmonized                  M                M  \n",
      "2     Harmonized                  M                M  \n",
      "3     Harmonized                  M                M  \n",
      "4     Harmonized                  M                M  \n",
      "...          ...                ...              ...  \n",
      "8564  Harmonized                  M                M  \n",
      "8565  Harmonized                  M                M  \n",
      "8566  Harmonized                  M                M  \n",
      "8567  Harmonized                  M                M  \n",
      "8568  Harmonized                  M                M  \n",
      "\n",
      "[47905 rows x 13 columns]\n"
     ]
    }
   ],
   "source": [
    "PEPF_15_19 = pd.read_csv('Data/entsoe/PEPF/PEPF_data-2015-2019.csv', sep=';')\n",
    "PEPF_21 = pd.read_csv('Data/entsoe/PEPF/physical_energy_power_flows_2021.csv', sep=';')\n",
    "PEPF_22 = pd.read_csv('Data/entsoe/PEPF/physical_energy_power_flows_2022.csv', sep=';')\n",
    "PEPF_23 = pd.read_csv('Data/entsoe/PEPF/physical_energy_power_flows_2023.csv', sep=',')\n",
    "\n",
    "PEPF_15_19 = PEPF_15_19.rename(columns={'Submitted By': 'FromAreaCode'})\n",
    "PEPF_15_19 = PEPF_15_19.rename(columns={'Border with': 'ToAreaCode'})\n",
    "PEPF_15_19 = PEPF_15_19.rename(columns={'SB Member': 'FromAreaMemberType'})\n",
    "PEPF_15_19 = PEPF_15_19.rename(columns={'BW Member': 'ToAreaMemberType'})\n",
    "PEPF_22 = PEPF_22.rename(columns={'FromMemberType': 'FromAreaMemberType'})\n",
    "PEPF_22 = PEPF_22.rename(columns={'ToMemberType': 'ToAreaMemberType'})  \n",
    "\n",
    "\n",
    "# Combine all the dataframes to create a new dataframe combining the data from 2015 to 2022\n",
    "PEPF_15_23 = pd.concat([PEPF_15_19, PEPF_21, PEPF_22, PEPF_23])\n",
    "#PEPF_15_23.to_csv('Data/entsoe/PEPF/PEPF_15_23.csv', index=False)\n",
    "\n",
    "print(PEPF_15_23)"
   ]
  }
 ],
 "metadata": {
  "kernelspec": {
   "display_name": "Python 3",
   "language": "python",
   "name": "python3"
  },
  "language_info": {
   "codemirror_mode": {
    "name": "ipython",
    "version": 3
   },
   "file_extension": ".py",
   "mimetype": "text/x-python",
   "name": "python",
   "nbconvert_exporter": "python",
   "pygments_lexer": "ipython3",
   "version": "3.11.6"
  },
  "orig_nbformat": 4
 },
 "nbformat": 4,
 "nbformat_minor": 2
}
