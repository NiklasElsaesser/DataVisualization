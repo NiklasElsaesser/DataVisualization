{
 "cells": [
  {
   "cell_type": "code",
   "execution_count": null,
   "metadata": {},
   "outputs": [],
   "source": [
    "import pandas as pd\n",
    "import plotly.graph_objects as go\n",
    "import wandb\n",
    "\n",
    "# 1. WandB-Projekt initialisieren\n",
    "wandb.init(project=\"Data_Visualization_Valentino\", name=\"Visualisierung_Waffentypen\")\n",
    "\n",
    "# Dateipfad\n",
    "file_path = r\"C:\\Users\\vspe2202\\Downloads\\Type of weapon involved by offense_03-25-2024.csv\"\n",
    "\n",
    "# CSV-Datei einlesen\n",
    "data = pd.read_csv(file_path)\n",
    "\n",
    "# 2. Erstellen des Säulendiagramms mit Plotly\n",
    "fig = go.Figure(data=[go.Bar(x=data[data.columns[0]], y=data[data.columns[1]], marker_color='skyblue')])\n",
    "\n",
    "# Layout anpassen\n",
    "fig.update_layout(\n",
    "    title='Häufigkeit von Waffentypen bei Straftaten',\n",
    "    xaxis_title='Waffenart',\n",
    "    yaxis_title='Anzahl',\n",
    "    xaxis_tickangle=-45,\n",
    "    width=1000,\n",
    "    height=600\n",
    ")\n",
    "\n",
    "# 3. Visualisierung mit WandB loggen\n",
    "wandb.log({\"Visualisierung_Waffentypen\": fig})\n",
    "\n",
    "# 4. Metadaten hinzufügen (optional)\n",
    "wandb.config.data_path = file_path\n",
    "wandb.config.analysis_type = \"Säulendiagramm\"\n",
    "\n",
    "# 5. Bericht erstellen\n",
    "wandb.run.notes = \"Visualisierung der Häufigkeit von Waffentypen bei Straftaten\"\n",
    "wandb.run.finish()"
   ]
  }
 ],
 "metadata": {
  "kernelspec": {
   "display_name": "Python 3.11.6 64-bit",
   "language": "python",
   "name": "python3"
  },
  "language_info": {
   "name": "python",
   "version": "3.11.6"
  },
  "orig_nbformat": 4,
  "vscode": {
   "interpreter": {
    "hash": "b0fa6594d8f4cbf19f97940f81e996739fb7646882a419484c72d19e05852a7e"
   }
  }
 },
 "nbformat": 4,
 "nbformat_minor": 2
}
