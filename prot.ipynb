{
 "cells": [
  {
   "cell_type": "code",
   "execution_count": 2,
   "metadata": {},
   "outputs": [
    {
     "name": "stdout",
     "output_type": "stream",
     "text": [
      "Requirement already satisfied: wandb in /opt/homebrew/lib/python3.11/site-packages (0.16.4)\n",
      "Requirement already satisfied: Click!=8.0.0,>=7.1 in /opt/homebrew/lib/python3.11/site-packages (from wandb) (8.1.7)\n",
      "Requirement already satisfied: GitPython!=3.1.29,>=1.0.0 in /opt/homebrew/lib/python3.11/site-packages (from wandb) (3.1.40)\n",
      "Requirement already satisfied: requests<3,>=2.0.0 in /opt/homebrew/lib/python3.11/site-packages (from wandb) (2.31.0)\n",
      "Requirement already satisfied: psutil>=5.0.0 in /Users/niklaselsasser/Library/Python/3.11/lib/python/site-packages (from wandb) (5.9.4)\n",
      "Requirement already satisfied: sentry-sdk>=1.0.0 in /opt/homebrew/lib/python3.11/site-packages (from wandb) (1.34.0)\n",
      "Requirement already satisfied: docker-pycreds>=0.4.0 in /opt/homebrew/lib/python3.11/site-packages (from wandb) (0.4.0)\n",
      "Requirement already satisfied: PyYAML in /opt/homebrew/lib/python3.11/site-packages (from wandb) (6.0.1)\n",
      "Requirement already satisfied: setproctitle in /opt/homebrew/lib/python3.11/site-packages (from wandb) (1.3.3)\n",
      "Requirement already satisfied: setuptools in /opt/homebrew/lib/python3.11/site-packages (from wandb) (68.2.2)\n",
      "Requirement already satisfied: appdirs>=1.4.3 in /opt/homebrew/lib/python3.11/site-packages (from wandb) (1.4.4)\n",
      "Requirement already satisfied: protobuf!=4.21.0,<5,>=3.19.0 in /opt/homebrew/lib/python3.11/site-packages (from wandb) (4.24.4)\n",
      "Requirement already satisfied: six>=1.4.0 in /Users/niklaselsasser/Library/Python/3.11/lib/python/site-packages (from docker-pycreds>=0.4.0->wandb) (1.16.0)\n",
      "Requirement already satisfied: gitdb<5,>=4.0.1 in /opt/homebrew/lib/python3.11/site-packages (from GitPython!=3.1.29,>=1.0.0->wandb) (4.0.11)\n",
      "Requirement already satisfied: charset-normalizer<4,>=2 in /opt/homebrew/lib/python3.11/site-packages (from requests<3,>=2.0.0->wandb) (3.3.1)\n",
      "Requirement already satisfied: idna<4,>=2.5 in /opt/homebrew/lib/python3.11/site-packages (from requests<3,>=2.0.0->wandb) (3.4)\n",
      "Requirement already satisfied: urllib3<3,>=1.21.1 in /opt/homebrew/lib/python3.11/site-packages (from requests<3,>=2.0.0->wandb) (2.0.7)\n",
      "Requirement already satisfied: certifi>=2017.4.17 in /opt/homebrew/lib/python3.11/site-packages (from requests<3,>=2.0.0->wandb) (2023.7.22)\n",
      "Requirement already satisfied: smmap<6,>=3.0.1 in /opt/homebrew/lib/python3.11/site-packages (from gitdb<5,>=4.0.1->GitPython!=3.1.29,>=1.0.0->wandb) (5.0.1)\n",
      "Note: you may need to restart the kernel to use updated packages.\n",
      "Requirement already satisfied: pandas in /opt/homebrew/lib/python3.11/site-packages (1.5.3)\n",
      "Requirement already satisfied: python-dateutil>=2.8.1 in /Users/niklaselsasser/Library/Python/3.11/lib/python/site-packages (from pandas) (2.8.2)\n",
      "Requirement already satisfied: pytz>=2020.1 in /opt/homebrew/lib/python3.11/site-packages (from pandas) (2023.3.post1)\n",
      "Requirement already satisfied: numpy>=1.21.0 in /opt/homebrew/lib/python3.11/site-packages (from pandas) (1.24.3)\n",
      "Requirement already satisfied: six>=1.5 in /Users/niklaselsasser/Library/Python/3.11/lib/python/site-packages (from python-dateutil>=2.8.1->pandas) (1.16.0)\n",
      "Note: you may need to restart the kernel to use updated packages.\n",
      "Requirement already satisfied: numpy in /opt/homebrew/lib/python3.11/site-packages (1.24.3)\n",
      "Note: you may need to restart the kernel to use updated packages.\n",
      "Requirement already satisfied: matplotlib in /opt/homebrew/lib/python3.11/site-packages (3.7.3)\n",
      "Requirement already satisfied: contourpy>=1.0.1 in /opt/homebrew/lib/python3.11/site-packages (from matplotlib) (1.1.1)\n",
      "Requirement already satisfied: cycler>=0.10 in /opt/homebrew/lib/python3.11/site-packages (from matplotlib) (0.12.1)\n",
      "Requirement already satisfied: fonttools>=4.22.0 in /opt/homebrew/lib/python3.11/site-packages (from matplotlib) (4.43.1)\n",
      "Requirement already satisfied: kiwisolver>=1.0.1 in /opt/homebrew/lib/python3.11/site-packages (from matplotlib) (1.4.5)\n",
      "Requirement already satisfied: numpy<2,>=1.20 in /opt/homebrew/lib/python3.11/site-packages (from matplotlib) (1.24.3)\n",
      "Requirement already satisfied: packaging>=20.0 in /opt/homebrew/lib/python3.11/site-packages (from matplotlib) (23.1)\n",
      "Requirement already satisfied: pillow>=6.2.0 in /opt/homebrew/lib/python3.11/site-packages (from matplotlib) (10.0.1)\n",
      "Requirement already satisfied: pyparsing>=2.3.1 in /Users/niklaselsasser/Library/Python/3.11/lib/python/site-packages (from matplotlib) (3.0.9)\n",
      "Requirement already satisfied: python-dateutil>=2.7 in /Users/niklaselsasser/Library/Python/3.11/lib/python/site-packages (from matplotlib) (2.8.2)\n",
      "Requirement already satisfied: six>=1.5 in /Users/niklaselsasser/Library/Python/3.11/lib/python/site-packages (from python-dateutil>=2.7->matplotlib) (1.16.0)\n",
      "Note: you may need to restart the kernel to use updated packages.\n",
      "Collecting bokeh\n",
      "  Downloading bokeh-3.4.0-py3-none-any.whl.metadata (12 kB)\n",
      "Requirement already satisfied: Jinja2>=2.9 in /opt/homebrew/lib/python3.11/site-packages (from bokeh) (3.1.2)\n",
      "Collecting contourpy>=1.2 (from bokeh)\n",
      "  Downloading contourpy-1.2.0-cp311-cp311-macosx_11_0_arm64.whl.metadata (5.8 kB)\n",
      "Requirement already satisfied: numpy>=1.16 in /opt/homebrew/lib/python3.11/site-packages (from bokeh) (1.24.3)\n",
      "Requirement already satisfied: packaging>=16.8 in /opt/homebrew/lib/python3.11/site-packages (from bokeh) (23.1)\n",
      "Requirement already satisfied: pandas>=1.2 in /opt/homebrew/lib/python3.11/site-packages (from bokeh) (1.5.3)\n",
      "Requirement already satisfied: pillow>=7.1.0 in /opt/homebrew/lib/python3.11/site-packages (from bokeh) (10.0.1)\n",
      "Requirement already satisfied: PyYAML>=3.10 in /opt/homebrew/lib/python3.11/site-packages (from bokeh) (6.0.1)\n",
      "Requirement already satisfied: tornado>=6.2 in /Users/niklaselsasser/Library/Python/3.11/lib/python/site-packages (from bokeh) (6.2)\n",
      "Collecting xyzservices>=2021.09.1 (from bokeh)\n",
      "  Downloading xyzservices-2023.10.1-py3-none-any.whl.metadata (4.0 kB)\n",
      "Requirement already satisfied: MarkupSafe>=2.0 in /opt/homebrew/lib/python3.11/site-packages (from Jinja2>=2.9->bokeh) (2.1.3)\n",
      "Requirement already satisfied: python-dateutil>=2.8.1 in /Users/niklaselsasser/Library/Python/3.11/lib/python/site-packages (from pandas>=1.2->bokeh) (2.8.2)\n",
      "Requirement already satisfied: pytz>=2020.1 in /opt/homebrew/lib/python3.11/site-packages (from pandas>=1.2->bokeh) (2023.3.post1)\n",
      "Requirement already satisfied: six>=1.5 in /Users/niklaselsasser/Library/Python/3.11/lib/python/site-packages (from python-dateutil>=2.8.1->pandas>=1.2->bokeh) (1.16.0)\n",
      "Downloading bokeh-3.4.0-py3-none-any.whl (7.0 MB)\n",
      "\u001b[2K   \u001b[90m━━━━━━━━━━━━━━━━━━━━━━━━━━━━━━━━━━━━━━━━\u001b[0m \u001b[32m7.0/7.0 MB\u001b[0m \u001b[31m24.9 MB/s\u001b[0m eta \u001b[36m0:00:00\u001b[0m00:01\u001b[0m00:01\u001b[0m\n",
      "\u001b[?25hDownloading contourpy-1.2.0-cp311-cp311-macosx_11_0_arm64.whl (243 kB)\n",
      "\u001b[2K   \u001b[90m━━━━━━━━━━━━━━━━━━━━━━━━━━━━━━━━━━━━━━━━\u001b[0m \u001b[32m243.4/243.4 kB\u001b[0m \u001b[31m14.0 MB/s\u001b[0m eta \u001b[36m0:00:00\u001b[0m\n",
      "\u001b[?25hDownloading xyzservices-2023.10.1-py3-none-any.whl (56 kB)\n",
      "\u001b[2K   \u001b[90m━━━━━━━━━━━━━━━━━━━━━━━━━━━━━━━━━━━━━━━━\u001b[0m \u001b[32m56.3/56.3 kB\u001b[0m \u001b[31m5.1 MB/s\u001b[0m eta \u001b[36m0:00:00\u001b[0m\n",
      "\u001b[?25hInstalling collected packages: xyzservices, contourpy, bokeh\n",
      "  Attempting uninstall: contourpy\n",
      "    Found existing installation: contourpy 1.1.1\n",
      "    Uninstalling contourpy-1.1.1:\n",
      "      Successfully uninstalled contourpy-1.1.1\n",
      "Successfully installed bokeh-3.4.0 contourpy-1.2.0 xyzservices-2023.10.1\n",
      "Note: you may need to restart the kernel to use updated packages.\n"
     ]
    }
   ],
   "source": [
    "%pip install wandb\n",
    "%pip install pandas\n",
    "%pip install numpy\n",
    "%pip install matplotlib\n",
    "%pip install bokeh"
   ]
  },
  {
   "cell_type": "code",
   "execution_count": 2,
   "metadata": {},
   "outputs": [],
   "source": [
    "\n",
    "\n",
    "import pandas as pd\n",
    "\n",
    "import numpy as np\n",
    "\n",
    "import matplotlib.pyplot as plt\n",
    "\n",
    "import wandb\n"
   ]
  },
  {
   "cell_type": "code",
   "execution_count": 18,
   "metadata": {},
   "outputs": [
    {
     "name": "stdout",
     "output_type": "stream",
     "text": [
      "     Period     Sex           Age  Count\n",
      "0      2010    Male        Infant    186\n",
      "1      2010    Male           1-4     36\n",
      "2      2010    Male           5-9     12\n",
      "3      2010    Male         10-14     24\n",
      "4      2010    Male         15-19    117\n",
      "..      ...     ...           ...    ...\n",
      "868    2022  Female         80-84   2907\n",
      "869    2022  Female         85-89   3201\n",
      "870    2022  Female         90-94   3147\n",
      "871    2022  Female         95-99   1593\n",
      "872    2022  Female  100 and over    372\n",
      "\n",
      "[572 rows x 4 columns]\n"
     ]
    }
   ],
   "source": [
    "# Import pandas library\n",
    "import pandas as pd\n",
    "\n",
    "# Read the data into a data frame\n",
    "data = pd.read_csv(\"/Users/niklaselsasser/Code/DataVisualization/bd-dec22-deaths-by-sex-and-age.csv\")\n",
    "\n",
    "# Remove rows where Sex contains the string \"Total\"\n",
    "data = data[~data[\"Sex\"].str.contains(\"Total\")]\n",
    "\n",
    "# Remove rows where Age contains the string \"Total\"\n",
    "data = data.query(\"Age != 'Total'\")\n",
    "\n",
    "# Print the resulting data frame\n",
    "print(data)\n",
    "\n",
    "\n",
    "# Save the modified data frame to a new CSV file\n",
    "data.to_csv(\"new_data.csv\", index=False)"
   ]
  },
  {
   "cell_type": "code",
   "execution_count": 17,
   "metadata": {},
   "outputs": [
    {
     "data": {
      "text/html": [
       "Finishing last run (ID:pnq47auv) before initializing another..."
      ],
      "text/plain": [
       "<IPython.core.display.HTML object>"
      ]
     },
     "metadata": {},
     "output_type": "display_data"
    },
    {
     "name": "stderr",
     "output_type": "stream",
     "text": [
      "wandb: WARNING Source type is set to 'repo' but some required information is missing from the environment. A job will not be created from this run. See https://docs.wandb.ai/guides/launch/create-job\n"
     ]
    },
    {
     "data": {
      "text/html": [
       " View run <strong style=\"color:#cdcd00\">warm-silence-4</strong> at: <a href='https://wandb.ai/elsaesserniklas/test-for-B/runs/pnq47auv' target=\"_blank\">https://wandb.ai/elsaesserniklas/test-for-B/runs/pnq47auv</a><br/>Synced 5 W&B file(s), 6 media file(s), 0 artifact file(s) and 0 other file(s)"
      ],
      "text/plain": [
       "<IPython.core.display.HTML object>"
      ]
     },
     "metadata": {},
     "output_type": "display_data"
    },
    {
     "data": {
      "text/html": [
       "Find logs at: <code>./wandb/run-20240326_163830-pnq47auv/logs</code>"
      ],
      "text/plain": [
       "<IPython.core.display.HTML object>"
      ]
     },
     "metadata": {},
     "output_type": "display_data"
    },
    {
     "data": {
      "text/html": [
       "Successfully finished last run (ID:pnq47auv). Initializing new run:<br/>"
      ],
      "text/plain": [
       "<IPython.core.display.HTML object>"
      ]
     },
     "metadata": {},
     "output_type": "display_data"
    },
    {
     "data": {
      "text/html": [
       "wandb version 0.16.5 is available!  To upgrade, please run:\n",
       " $ pip install wandb --upgrade"
      ],
      "text/plain": [
       "<IPython.core.display.HTML object>"
      ]
     },
     "metadata": {},
     "output_type": "display_data"
    },
    {
     "data": {
      "text/html": [
       "Tracking run with wandb version 0.16.4"
      ],
      "text/plain": [
       "<IPython.core.display.HTML object>"
      ]
     },
     "metadata": {},
     "output_type": "display_data"
    },
    {
     "data": {
      "text/html": [
       "Run data is saved locally in <code>/Users/niklaselsasser/Code/DataVisualization/wandb/run-20240326_200358-rc6pkqnq</code>"
      ],
      "text/plain": [
       "<IPython.core.display.HTML object>"
      ]
     },
     "metadata": {},
     "output_type": "display_data"
    },
    {
     "data": {
      "text/html": [
       "Syncing run <strong><a href='https://wandb.ai/elsaesserniklas/test-for-B/runs/rc6pkqnq' target=\"_blank\">colorful-serenity-5</a></strong> to <a href='https://wandb.ai/elsaesserniklas/test-for-B' target=\"_blank\">Weights & Biases</a> (<a href='https://wandb.me/run' target=\"_blank\">docs</a>)<br/>"
      ],
      "text/plain": [
       "<IPython.core.display.HTML object>"
      ]
     },
     "metadata": {},
     "output_type": "display_data"
    },
    {
     "data": {
      "text/html": [
       " View project at <a href='https://wandb.ai/elsaesserniklas/test-for-B' target=\"_blank\">https://wandb.ai/elsaesserniklas/test-for-B</a>"
      ],
      "text/plain": [
       "<IPython.core.display.HTML object>"
      ]
     },
     "metadata": {},
     "output_type": "display_data"
    },
    {
     "data": {
      "text/html": [
       " View run at <a href='https://wandb.ai/elsaesserniklas/test-for-B/runs/rc6pkqnq' target=\"_blank\">https://wandb.ai/elsaesserniklas/test-for-B/runs/rc6pkqnq</a>"
      ],
      "text/plain": [
       "<IPython.core.display.HTML object>"
      ]
     },
     "metadata": {},
     "output_type": "display_data"
    }
   ],
   "source": [
    "\n",
    "wandb.init(project=\"test-for-B\")\n",
    "from io import BytesIO\n",
    "\n"
   ]
  },
  {
   "cell_type": "code",
   "execution_count": 19,
   "metadata": {},
   "outputs": [
    {
     "data": {
      "image/png": "[encoded data removed]",
      "text/plain": [
       "<Figure size 1000x600 with 1 Axes>"
      ]
     },
     "metadata": {},
     "output_type": "display_data"
    },
    {
     "name": "stderr",
     "output_type": "stream",
     "text": [
      "wandb: Network error (ConnectionError), entering retry loop.\n"
     ]
    }
   ],
   "source": [
    "\n",
    "#Read the CSV file\n",
    "df = pd.read_csv('/Users/niklaselsasser/Code/DataVisualization/new_data.csv')\n",
    "\n",
    "\n",
    "#Filter out the rows with 'All Ages' to focus on specific age groups\n",
    "df_filtered = df[df['Age'] != 'All Ages']\n",
    "\n",
    "\n",
    "#Group the data by gender and age and sum the deaths\n",
    "grouped_data = df_filtered.groupby(['Sex', 'Age']).sum()['Count'].unstack()\n",
    "\n",
    "\n",
    "#Scale down the values of 'Number of Deaths' by dividing by 100\n",
    "grouped_data_scaled = grouped_data / 100\n",
    "\n",
    "\n",
    "#Plotting\n",
    "grouped_data_scaled.plot(kind='bar', figsize=(10, 6))\n",
    "plt.title('Deaths by Gender and Age (Scaled Down)')\n",
    "plt.xlabel('Age')\n",
    "plt.ylabel('Number of Deaths (Scaled)')\n",
    "plt.xticks(rotation=45)\n",
    "plt.legend(title='Sex')\n",
    "plt.tight_layout()\n",
    "\n",
    "\n",
    "\n",
    "\n",
    "#Convert plot to image buffer\n",
    "buf = BytesIO()\n",
    "plt.savefig(buf, format='png')\n",
    "buf.seek(0)\n",
    "buf_array = np.array(plt.imread(buf))\n",
    "#Log the image to Wandb\n",
    "wandb.log({\"grouped_bar_chart\": wandb.Image(buf_array)})\n",
    "#wandb.report(r'C:\\Downloads/notes_07/DataVis.ipynb')\n"
   ]
  },
  {
   "cell_type": "code",
   "execution_count": 5,
   "metadata": {},
   "outputs": [],
   "source": [
    "import pandas as pd\n",
    "import plotly.graph_objs as go\n",
    "import wandb\n",
    "\n",
    "# Read the CSV file\n",
    "df = pd.read_csv('/Users/niklaselsasser/Code/DataVisualization/bd-dec22-deaths-by-sex-and-age.csv')\n",
    "\n",
    "# Filter out the rows with 'All Ages' to focus on specific age groups\n",
    "df_filtered = df[df['Age'] != 'All Ages']\n",
    "\n",
    "# Group the data by gender and age and sum the deaths\n",
    "grouped_data = df_filtered.groupby(['Sex', 'Age']).sum()['Count'].unstack()\n",
    "\n",
    "# Scale down the values of 'Number of Deaths' by dividing by 100\n",
    "grouped_data_scaled = grouped_data / 100\n",
    "\n",
    "# Create traces for each gender\n",
    "traces = []\n",
    "for gender in grouped_data_scaled.index:\n",
    "    trace = go.Bar(\n",
    "        x=grouped_data_scaled.columns,\n",
    "        y=grouped_data_scaled.loc[gender],\n",
    "        name=gender\n",
    "    )\n",
    "    traces.append(trace)\n",
    "\n",
    "# Create layout\n",
    "layout = go.Layout(\n",
    "    title='Deaths by Gender and Age (Scaled Down)',\n",
    "    xaxis=dict(title='Age'),\n",
    "    yaxis=dict(title='Number of Deaths (Scaled)'),\n",
    "    barmode='group'\n",
    ")\n",
    "\n",
    "# Create figure\n",
    "fig = go.Figure(data=traces, layout=layout)\n",
    "\n",
    "# Initialize wandb\n",
    "#wandb.init(project='your_project_name', entity='your_username')\n",
    "\n",
    "# Log the interactive plot to Wandb\n",
    "wandb.log({\"interactive_grouped_bar_chart-1\": fig})\n"
   ]
  },
  {
   "cell_type": "code",
   "execution_count": 9,
   "metadata": {},
   "outputs": [
    {
     "name": "stderr",
     "output_type": "stream",
     "text": [
      "wandb: Network error (ConnectionError), entering retry loop.\n"
     ]
    }
   ],
   "source": [
    "import pandas as pd\n",
    "import plotly.graph_objs as go\n",
    "import wandb\n",
    "\n",
    "# Read the CSV file\n",
    "df = pd.read_csv('/Users/niklaselsasser/Code/DataVisualization/bd-dec22-deaths-by-sex-and-age.csv')\n",
    "\n",
    "# Filter out the rows with 'All Ages' to focus on specific age groups\n",
    "df_filtered = df[df['Age'] != 'All Ages']\n",
    "\n",
    "# Reorder the age groups\n",
    "age_order = ['Infant', 'Age 1', 'Age 2', 'Age 3', 'Age 4', 'Age 5', 'Age 6', 'Age 7', 'Age 8', 'Age 9', 'Age 10',\n",
    "             'Age 11', 'Age 12', 'Age 13', 'Age 14', 'Age 15', 'Age 16', 'Age 17', 'Age 18', 'Age 19']\n",
    "df_filtered['Age'] = pd.Categorical(df_filtered['Age'], categories=age_order, ordered=True)\n",
    "\n",
    "# Group the data by gender and age and sum the deaths\n",
    "grouped_data = df_filtered.groupby(['Sex', 'Age']).sum()['Count'].unstack()\n",
    "\n",
    "# Scale down the values of 'Number of Deaths' by dividing by 100\n",
    "grouped_data_scaled = grouped_data / 100\n",
    "\n",
    "# Reindex the columns to have a continuous range from 1 to 100\n",
    "grouped_data_scaled = grouped_data_scaled.reindex(range(1, 101), axis=1)\n",
    "\n",
    "# Add a column for total deaths\n",
    "grouped_data_scaled['Total'] = grouped_data_scaled.sum(axis=1)\n",
    "\n",
    "# Create traces for each gender\n",
    "traces = []\n",
    "for gender in grouped_data_scaled.index:\n",
    "    trace = go.Bar(\n",
    "        x=grouped_data_scaled.columns,\n",
    "        y=grouped_data_scaled.loc[gender],\n",
    "        name=gender\n",
    "    )\n",
    "    traces.append(trace)\n",
    "\n",
    "# Create layout\n",
    "layout = go.Layout(\n",
    "    title='Deaths by Gender and Age (Scaled Down)',\n",
    "    xaxis=dict(title='Age'),\n",
    "    yaxis=dict(title='Number of Deaths (Scaled)'),\n",
    "    barmode='group'\n",
    ")\n",
    "\n",
    "# Create figure\n",
    "fig = go.Figure(data=traces, layout=layout)\n",
    "\n",
    "# Convert figure to JSON\n",
    "fig_json = fig.to_json()\n",
    "\n",
    "# Initialize wandb\n",
    "#wandb.init(project='your_project_name', entity='your_username')\n",
    "\n",
    "# Log the interactive plot to Wandb\n",
    "wandb.log({\"interactive_grouped_bar_chart-4\": wandb.Html(fig_json, inject=False)})\n"
   ]
  },
  {
   "cell_type": "code",
   "execution_count": 6,
   "metadata": {},
   "outputs": [],
   "source": [
    "\n",
    "#Finish the Wandb run\n",
    "#wandb.finish()"
   ]
  },
  {
   "cell_type": "code",
   "execution_count": 6,
   "metadata": {},
   "outputs": [],
   "source": [
    "from bokeh.plotting import figure, output_file, save, show\n",
    "\n",
    "# Create your Bokeh plot\n",
    "p = figure(title=\"My Interactive Plot\", x_axis_label='x', y_axis_label='y')\n",
    "p.line([1, 2, 3, 4, 5], [6, 7, 2, 4, 5], line_width=2)\n",
    "\n",
    "# Specify the output file name\n",
    "output_file(\"interactive_plot.html\")\n",
    "\n",
    "# Save the plot as HTML file\n",
    "save(p)\n",
    "\n",
    "#show(p)\n",
    "\n",
    "# Now, you can upload the HTML file as an artifact to WandB\n",
    "# Follow the documentation of WandB for how to upload artifacts.\n"
   ]
  }
 ],
 "metadata": {
  "kernelspec": {
   "display_name": "Python 3.11.6 64-bit",
   "language": "python",
   "name": "python3"
  },
  "language_info": {
   "codemirror_mode": {
    "name": "ipython",
    "version": 3
   },
   "file_extension": ".py",
   "mimetype": "text/x-python",
   "name": "python",
   "nbconvert_exporter": "python",
   "pygments_lexer": "ipython3",
   "version": "3.11.6"
  },
  "orig_nbformat": 4,
  "vscode": {
   "interpreter": {
    "hash": "b0fa6594d8f4cbf19f97940f81e996739fb7646882a419484c72d19e05852a7e"
   }
  }
 },
 "nbformat": 4,
 "nbformat_minor": 2
}
